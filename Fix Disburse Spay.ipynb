{
 "cells": [
  {
   "cell_type": "code",
   "execution_count": 1,
   "id": "47d9a813",
   "metadata": {},
   "outputs": [],
   "source": [
    "import pandas as pd"
   ]
  },
  {
   "cell_type": "code",
   "execution_count": 2,
   "id": "3f51a29c",
   "metadata": {},
   "outputs": [],
   "source": [
    "import numpy as np"
   ]
  },
  {
   "cell_type": "code",
   "execution_count": 3,
   "id": "db1bedb1",
   "metadata": {},
   "outputs": [],
   "source": [
    "spay_mutasi = pd.read_csv('Spay Disburse Report 1-7 Mar 24.csv')"
   ]
  },
  {
   "cell_type": "code",
   "execution_count": 4,
   "id": "9b7bc100",
   "metadata": {},
   "outputs": [],
   "source": [
    "spay_mutasi_raw = pd.read_csv('Spay Disburse Report 1-7 Mar 24.csv')"
   ]
  },
  {
   "cell_type": "code",
   "execution_count": 5,
   "id": "fa763166",
   "metadata": {},
   "outputs": [],
   "source": [
    "fee_divide = spay_mutasi['Fee (Processing)'] / 2 "
   ]
  },
  {
   "cell_type": "code",
   "execution_count": 6,
   "id": "437f7501",
   "metadata": {},
   "outputs": [],
   "source": [
    "spay_mutasi.insert(loc=9, column='Fee/2', value=fee_divide)"
   ]
  },
  {
   "cell_type": "code",
   "execution_count": 7,
   "id": "46fda363",
   "metadata": {},
   "outputs": [],
   "source": [
    "spay_gds = pd.read_csv('Spay Disburse GDS 1-7 Mar 24.csv')"
   ]
  },
  {
   "cell_type": "code",
   "execution_count": 8,
   "id": "96fe3f0d",
   "metadata": {},
   "outputs": [],
   "source": [
    "spay_gds_raw = pd.read_csv('Spay Disburse GDS 1-7 Mar 24.csv')"
   ]
  },
  {
   "cell_type": "code",
   "execution_count": 9,
   "id": "38080bf6",
   "metadata": {},
   "outputs": [
    {
     "name": "stdout",
     "output_type": "stream",
     "text": [
      "173648\n",
      "173647\n"
     ]
    }
   ],
   "source": [
    "print(len(spay_mutasi))\n",
    "print(len(spay_gds))"
   ]
  },
  {
   "cell_type": "code",
   "execution_count": 10,
   "id": "b1b4dbf2",
   "metadata": {},
   "outputs": [
    {
     "data": {
      "text/html": [
       "<div>\n",
       "<style scoped>\n",
       "    .dataframe tbody tr th:only-of-type {\n",
       "        vertical-align: middle;\n",
       "    }\n",
       "\n",
       "    .dataframe tbody tr th {\n",
       "        vertical-align: top;\n",
       "    }\n",
       "\n",
       "    .dataframe thead th {\n",
       "        text-align: right;\n",
       "    }\n",
       "</style>\n",
       "<table border=\"1\" class=\"dataframe\">\n",
       "  <thead>\n",
       "    <tr style=\"text-align: right;\">\n",
       "      <th></th>\n",
       "      <th>Merchant Host</th>\n",
       "      <th>Partner Merchant ID</th>\n",
       "      <th>Merchant/Store Name</th>\n",
       "      <th>Merchant Display Name</th>\n",
       "      <th>Transaction Type</th>\n",
       "      <th>Transaction ID</th>\n",
       "      <th>Reference ID</th>\n",
       "      <th>Disbursement Amount</th>\n",
       "      <th>Fee (Processing)</th>\n",
       "      <th>Fee/2</th>\n",
       "      <th>Transaction Amount</th>\n",
       "      <th>Create Time</th>\n",
       "      <th>Update Time</th>\n",
       "      <th>Time</th>\n",
       "      <th>Merchant Scope</th>\n",
       "      <th>External Reference ID</th>\n",
       "      <th>Issuer Identifier</th>\n",
       "      <th>Terminal ID</th>\n",
       "      <th>Currency Code</th>\n",
       "    </tr>\n",
       "  </thead>\n",
       "  <tbody>\n",
       "  </tbody>\n",
       "</table>\n",
       "</div>"
      ],
      "text/plain": [
       "Empty DataFrame\n",
       "Columns: [Merchant Host, Partner Merchant ID, Merchant/Store Name, Merchant Display Name, Transaction Type, Transaction ID, Reference ID, Disbursement Amount, Fee (Processing), Fee/2, Transaction Amount, Create Time, Update Time, Time, Merchant Scope, External Reference ID, Issuer Identifier, Terminal ID, Currency Code]\n",
       "Index: []"
      ]
     },
     "execution_count": 10,
     "metadata": {},
     "output_type": "execute_result"
    }
   ],
   "source": [
    "spay_mutasi[spay_mutasi['External Reference ID'].duplicated()]"
   ]
  },
  {
   "cell_type": "code",
   "execution_count": 11,
   "id": "e4220fb1",
   "metadata": {},
   "outputs": [
    {
     "data": {
      "text/html": [
       "<div>\n",
       "<style scoped>\n",
       "    .dataframe tbody tr th:only-of-type {\n",
       "        vertical-align: middle;\n",
       "    }\n",
       "\n",
       "    .dataframe tbody tr th {\n",
       "        vertical-align: top;\n",
       "    }\n",
       "\n",
       "    .dataframe thead th {\n",
       "        text-align: right;\n",
       "    }\n",
       "</style>\n",
       "<table border=\"1\" class=\"dataframe\">\n",
       "  <thead>\n",
       "    <tr style=\"text-align: right;\">\n",
       "      <th></th>\n",
       "      <th>Tx ID</th>\n",
       "      <th>Last Updated</th>\n",
       "      <th>Username</th>\n",
       "      <th>Source Account</th>\n",
       "      <th>Domain</th>\n",
       "      <th>Product Type</th>\n",
       "      <th>Amount</th>\n",
       "      <th>Admin Fee</th>\n",
       "      <th>Admin Fee Invoice</th>\n",
       "      <th>Disburse Cost</th>\n",
       "      <th>Tx Status</th>\n",
       "      <th>disburse_status</th>\n",
       "      <th>Bank Code</th>\n",
       "      <th>Bank Account</th>\n",
       "      <th>Vendor</th>\n",
       "      <th>Reference Number</th>\n",
       "      <th>Tx Ref Number</th>\n",
       "      <th>Vendor Ref ID</th>\n",
       "      <th>money_movement_cost</th>\n",
       "      <th>testing_account</th>\n",
       "    </tr>\n",
       "  </thead>\n",
       "  <tbody>\n",
       "  </tbody>\n",
       "</table>\n",
       "</div>"
      ],
      "text/plain": [
       "Empty DataFrame\n",
       "Columns: [Tx ID, Last Updated, Username, Source Account, Domain, Product Type, Amount, Admin Fee, Admin Fee Invoice, Disburse Cost, Tx Status, disburse_status, Bank Code, Bank Account, Vendor, Reference Number, Tx Ref Number, Vendor Ref ID, money_movement_cost, testing_account]\n",
       "Index: []"
      ]
     },
     "execution_count": 11,
     "metadata": {},
     "output_type": "execute_result"
    }
   ],
   "source": [
    "spay_gds[spay_gds['Reference Number'].duplicated()]"
   ]
  },
  {
   "cell_type": "code",
   "execution_count": 12,
   "id": "0be13f50",
   "metadata": {},
   "outputs": [],
   "source": [
    "spay_mutasi = spay_mutasi.drop(['Merchant Host','Partner Merchant ID','Merchant/Store Name','Transaction Type','Reference ID','Create Time','Time','Merchant Scope','Issuer Identifier','Terminal ID','Currency Code'],axis = 1)"
   ]
  },
  {
   "cell_type": "code",
   "execution_count": 13,
   "id": "59f2f54f",
   "metadata": {},
   "outputs": [],
   "source": [
    "spay_mutasi = spay_mutasi.add_suffix('_MUTASI')"
   ]
  },
  {
   "cell_type": "code",
   "execution_count": 14,
   "id": "a2aa5899",
   "metadata": {},
   "outputs": [],
   "source": [
    "spay_gds = spay_gds.drop(['Source Account','Domain','Bank Code','Bank Account','Vendor','Tx Ref Number','testing_account','money_movement_cost'],axis = 1)"
   ]
  },
  {
   "cell_type": "code",
   "execution_count": 15,
   "id": "b7418d3d",
   "metadata": {},
   "outputs": [],
   "source": [
    "spay_gds = spay_gds.add_suffix('_GDS')"
   ]
  },
  {
   "cell_type": "code",
   "execution_count": 16,
   "id": "efa6b44d",
   "metadata": {},
   "outputs": [
    {
     "name": "stderr",
     "output_type": "stream",
     "text": [
      "/var/folders/sg/v7nz4brs3sq_pn793b_nw89c0000gp/T/ipykernel_17786/3341801140.py:1: UserWarning: Could not infer format, so each element will be parsed individually, falling back to `dateutil`. To ensure parsing is consistent and as-expected, please specify a format.\n",
      "  spay_gds['Last Updated_GDS'] = pd.to_datetime(spay_gds['Last Updated_GDS']).dt.date\n"
     ]
    }
   ],
   "source": [
    "spay_gds['Last Updated_GDS'] = pd.to_datetime(spay_gds['Last Updated_GDS']).dt.date"
   ]
  },
  {
   "cell_type": "code",
   "execution_count": 17,
   "id": "cb7bc3f9",
   "metadata": {},
   "outputs": [],
   "source": [
    "spay_gds.rename(columns={\"Last Updated_GDS\": \"Date\"}, inplace=True)"
   ]
  },
  {
   "cell_type": "code",
   "execution_count": 18,
   "id": "4a71a91a",
   "metadata": {},
   "outputs": [],
   "source": [
    "data_compare = pd.merge(spay_mutasi,spay_gds, left_on='External Reference ID_MUTASI', right_on='Reference Number_GDS',how='outer', indicator=True)"
   ]
  },
  {
   "cell_type": "code",
   "execution_count": 19,
   "id": "92eb42a3",
   "metadata": {},
   "outputs": [],
   "source": [
    "data_compare['Match?'] = np.where((data_compare['External Reference ID_MUTASI'] == data_compare['Reference Number_GDS']) & (data_compare['Transaction Amount_MUTASI'] == data_compare['Amount_GDS']) , \"Recon\", \"Unrecon\")"
   ]
  },
  {
   "cell_type": "code",
   "execution_count": 20,
   "id": "bae43ff3",
   "metadata": {},
   "outputs": [],
   "source": [
    "data_compare['_merge'] = data_compare['_merge'].cat.rename_categories({'left_only': 'Dash Only', 'right_only': 'GDS Only'})"
   ]
  },
  {
   "cell_type": "code",
   "execution_count": 21,
   "id": "a49b5259",
   "metadata": {},
   "outputs": [],
   "source": [
    "unrecon = data_compare[data_compare['Match?'] == 'Unrecon']"
   ]
  },
  {
   "cell_type": "code",
   "execution_count": 22,
   "id": "5d24ca19",
   "metadata": {},
   "outputs": [],
   "source": [
    "index_unrecon = data_compare[data_compare['Match?'] == 'Unrecon'].index"
   ]
  },
  {
   "cell_type": "code",
   "execution_count": 23,
   "id": "97701bf8",
   "metadata": {},
   "outputs": [
    {
     "data": {
      "text/plain": [
       "Index([173647], dtype='int64')"
      ]
     },
     "execution_count": 23,
     "metadata": {},
     "output_type": "execute_result"
    }
   ],
   "source": [
    "index_unrecon"
   ]
  },
  {
   "cell_type": "code",
   "execution_count": 24,
   "id": "f74ecc84",
   "metadata": {},
   "outputs": [],
   "source": [
    "data_compare = data_compare.drop(index_unrecon)"
   ]
  },
  {
   "cell_type": "code",
   "execution_count": 25,
   "id": "b92cbe49",
   "metadata": {},
   "outputs": [
    {
     "data": {
      "text/html": [
       "<div>\n",
       "<style scoped>\n",
       "    .dataframe tbody tr th:only-of-type {\n",
       "        vertical-align: middle;\n",
       "    }\n",
       "\n",
       "    .dataframe tbody tr th {\n",
       "        vertical-align: top;\n",
       "    }\n",
       "\n",
       "    .dataframe thead th {\n",
       "        text-align: right;\n",
       "    }\n",
       "</style>\n",
       "<table border=\"1\" class=\"dataframe\">\n",
       "  <thead>\n",
       "    <tr style=\"text-align: right;\">\n",
       "      <th></th>\n",
       "      <th>Merchant Display Name_MUTASI</th>\n",
       "      <th>Transaction ID_MUTASI</th>\n",
       "      <th>Disbursement Amount_MUTASI</th>\n",
       "      <th>Fee (Processing)_MUTASI</th>\n",
       "      <th>Fee/2_MUTASI</th>\n",
       "      <th>Transaction Amount_MUTASI</th>\n",
       "      <th>Update Time_MUTASI</th>\n",
       "      <th>External Reference ID_MUTASI</th>\n",
       "      <th>Tx ID_GDS</th>\n",
       "      <th>Date</th>\n",
       "      <th>...</th>\n",
       "      <th>Amount_GDS</th>\n",
       "      <th>Admin Fee_GDS</th>\n",
       "      <th>Admin Fee Invoice_GDS</th>\n",
       "      <th>Disburse Cost_GDS</th>\n",
       "      <th>Tx Status_GDS</th>\n",
       "      <th>disburse_status_GDS</th>\n",
       "      <th>Reference Number_GDS</th>\n",
       "      <th>Vendor Ref ID_GDS</th>\n",
       "      <th>_merge</th>\n",
       "      <th>Match?</th>\n",
       "    </tr>\n",
       "  </thead>\n",
       "  <tbody>\n",
       "    <tr>\n",
       "      <th>0</th>\n",
       "      <td>PT Bank OCBC NISP</td>\n",
       "      <td>MWSB2O6JGN2C2AG3IO5S2LNAZ2UIM</td>\n",
       "      <td>500000</td>\n",
       "      <td>600</td>\n",
       "      <td>300.0</td>\n",
       "      <td>500000</td>\n",
       "      <td>3/1/24</td>\n",
       "      <td>20240229175947849571</td>\n",
       "      <td>a6dbac10-f8e7-46d0-813b-6567ed23e4f3</td>\n",
       "      <td>2024-03-01</td>\n",
       "      <td>...</td>\n",
       "      <td>500000.0</td>\n",
       "      <td>666.0</td>\n",
       "      <td>0.0</td>\n",
       "      <td>300.0</td>\n",
       "      <td>SUCCESS</td>\n",
       "      <td>SUCCESS</td>\n",
       "      <td>20240229175947849571</td>\n",
       "      <td>MWSB2O6JGN2C2AG3IO5S2LNAZ2UIM</td>\n",
       "      <td>both</td>\n",
       "      <td>Recon</td>\n",
       "    </tr>\n",
       "    <tr>\n",
       "      <th>1</th>\n",
       "      <td>CIMB Niaga</td>\n",
       "      <td>MWSKL5EDOUJCCCRGFGRSCP6O1FBBM</td>\n",
       "      <td>500000</td>\n",
       "      <td>800</td>\n",
       "      <td>400.0</td>\n",
       "      <td>500000</td>\n",
       "      <td>3/1/24</td>\n",
       "      <td>20240229175946236581</td>\n",
       "      <td>65106d9c-e6a6-4c44-8e52-a39deac9785e</td>\n",
       "      <td>2024-03-01</td>\n",
       "      <td>...</td>\n",
       "      <td>500000.0</td>\n",
       "      <td>555.0</td>\n",
       "      <td>0.0</td>\n",
       "      <td>400.0</td>\n",
       "      <td>SUCCESS</td>\n",
       "      <td>SUCCESS</td>\n",
       "      <td>20240229175946236581</td>\n",
       "      <td>MWSKL5EDOUJCCCRGFGRSCP6O1FBBM</td>\n",
       "      <td>both</td>\n",
       "      <td>Recon</td>\n",
       "    </tr>\n",
       "    <tr>\n",
       "      <th>2</th>\n",
       "      <td>CIMB Niaga</td>\n",
       "      <td>MWSJ2OLZKFAERBHAQTRZUSDSDKY6M</td>\n",
       "      <td>99000</td>\n",
       "      <td>800</td>\n",
       "      <td>400.0</td>\n",
       "      <td>99000</td>\n",
       "      <td>3/1/24</td>\n",
       "      <td>20240229175942248920</td>\n",
       "      <td>447cfee5-89c4-4255-b28c-102adf243e1d</td>\n",
       "      <td>2024-03-01</td>\n",
       "      <td>...</td>\n",
       "      <td>99000.0</td>\n",
       "      <td>555.0</td>\n",
       "      <td>0.0</td>\n",
       "      <td>400.0</td>\n",
       "      <td>SUCCESS</td>\n",
       "      <td>SUCCESS</td>\n",
       "      <td>20240229175942248920</td>\n",
       "      <td>MWSJ2OLZKFAERBHAQTRZUSDSDKY6M</td>\n",
       "      <td>both</td>\n",
       "      <td>Recon</td>\n",
       "    </tr>\n",
       "    <tr>\n",
       "      <th>3</th>\n",
       "      <td>PT Bank OCBC NISP</td>\n",
       "      <td>MWSNUV2XG4IEZHIIADD3YJCDFER3Y</td>\n",
       "      <td>100000</td>\n",
       "      <td>600</td>\n",
       "      <td>300.0</td>\n",
       "      <td>100000</td>\n",
       "      <td>3/1/24</td>\n",
       "      <td>20240229175936913536</td>\n",
       "      <td>d35f402f-da63-4772-b0c5-e87d54ac4a6f</td>\n",
       "      <td>2024-03-01</td>\n",
       "      <td>...</td>\n",
       "      <td>100000.0</td>\n",
       "      <td>666.0</td>\n",
       "      <td>0.0</td>\n",
       "      <td>300.0</td>\n",
       "      <td>SUCCESS</td>\n",
       "      <td>SUCCESS</td>\n",
       "      <td>20240229175936913536</td>\n",
       "      <td>MWSNUV2XG4IEZHIIADD3YJCDFER3Y</td>\n",
       "      <td>both</td>\n",
       "      <td>Recon</td>\n",
       "    </tr>\n",
       "    <tr>\n",
       "      <th>4</th>\n",
       "      <td>CIMB Niaga</td>\n",
       "      <td>MWSTKHMMJM5WYANWPZJPQTIH3KUC3</td>\n",
       "      <td>129000</td>\n",
       "      <td>800</td>\n",
       "      <td>400.0</td>\n",
       "      <td>129000</td>\n",
       "      <td>3/1/24</td>\n",
       "      <td>20240229175927237691</td>\n",
       "      <td>de67c277-dd2b-415b-9968-f932746b140f</td>\n",
       "      <td>2024-03-01</td>\n",
       "      <td>...</td>\n",
       "      <td>129000.0</td>\n",
       "      <td>555.0</td>\n",
       "      <td>0.0</td>\n",
       "      <td>400.0</td>\n",
       "      <td>SUCCESS</td>\n",
       "      <td>SUCCESS</td>\n",
       "      <td>20240229175927237691</td>\n",
       "      <td>MWSTKHMMJM5WYANWPZJPQTIH3KUC3</td>\n",
       "      <td>both</td>\n",
       "      <td>Recon</td>\n",
       "    </tr>\n",
       "    <tr>\n",
       "      <th>...</th>\n",
       "      <td>...</td>\n",
       "      <td>...</td>\n",
       "      <td>...</td>\n",
       "      <td>...</td>\n",
       "      <td>...</td>\n",
       "      <td>...</td>\n",
       "      <td>...</td>\n",
       "      <td>...</td>\n",
       "      <td>...</td>\n",
       "      <td>...</td>\n",
       "      <td>...</td>\n",
       "      <td>...</td>\n",
       "      <td>...</td>\n",
       "      <td>...</td>\n",
       "      <td>...</td>\n",
       "      <td>...</td>\n",
       "      <td>...</td>\n",
       "      <td>...</td>\n",
       "      <td>...</td>\n",
       "      <td>...</td>\n",
       "      <td>...</td>\n",
       "    </tr>\n",
       "    <tr>\n",
       "      <th>173642</th>\n",
       "      <td>CIMB Niaga</td>\n",
       "      <td>MWSOAWRHYG2KOHKZ4DZH45HUKYIK3</td>\n",
       "      <td>120000</td>\n",
       "      <td>800</td>\n",
       "      <td>400.0</td>\n",
       "      <td>120000</td>\n",
       "      <td>3/7/24</td>\n",
       "      <td>20240307160032719416</td>\n",
       "      <td>8610462e-a675-4be4-a138-0fa85f3e2266</td>\n",
       "      <td>2024-03-07</td>\n",
       "      <td>...</td>\n",
       "      <td>120000.0</td>\n",
       "      <td>555.0</td>\n",
       "      <td>0.0</td>\n",
       "      <td>400.0</td>\n",
       "      <td>SUCCESS</td>\n",
       "      <td>SUCCESS</td>\n",
       "      <td>20240307160032719416</td>\n",
       "      <td>MWSOAWRHYG2KOHKZ4DZH45HUKYIK3</td>\n",
       "      <td>both</td>\n",
       "      <td>Recon</td>\n",
       "    </tr>\n",
       "    <tr>\n",
       "      <th>173643</th>\n",
       "      <td>CIMB Niaga</td>\n",
       "      <td>MWSKBBSOPXRFI2Z4C1XDZ2RSRP1ZQ</td>\n",
       "      <td>40000</td>\n",
       "      <td>800</td>\n",
       "      <td>400.0</td>\n",
       "      <td>40000</td>\n",
       "      <td>3/7/24</td>\n",
       "      <td>20240307160031584222</td>\n",
       "      <td>8f8279db-1137-478f-ad0c-97c53493558a</td>\n",
       "      <td>2024-03-07</td>\n",
       "      <td>...</td>\n",
       "      <td>40000.0</td>\n",
       "      <td>555.0</td>\n",
       "      <td>0.0</td>\n",
       "      <td>400.0</td>\n",
       "      <td>SUCCESS</td>\n",
       "      <td>SUCCESS</td>\n",
       "      <td>20240307160031584222</td>\n",
       "      <td>MWSKBBSOPXRFI2Z4C1XDZ2RSRP1ZQ</td>\n",
       "      <td>both</td>\n",
       "      <td>Recon</td>\n",
       "    </tr>\n",
       "    <tr>\n",
       "      <th>173644</th>\n",
       "      <td>PT Bank OCBC NISP</td>\n",
       "      <td>MWSIHRVYGLTXM3EF63I6V1141LWWQ</td>\n",
       "      <td>248394</td>\n",
       "      <td>600</td>\n",
       "      <td>300.0</td>\n",
       "      <td>248394</td>\n",
       "      <td>3/7/24</td>\n",
       "      <td>20240307160029504139</td>\n",
       "      <td>6111433a-ffbb-4da5-900f-1c374a3c7515</td>\n",
       "      <td>2024-03-07</td>\n",
       "      <td>...</td>\n",
       "      <td>248394.0</td>\n",
       "      <td>666.0</td>\n",
       "      <td>0.0</td>\n",
       "      <td>300.0</td>\n",
       "      <td>SUCCESS</td>\n",
       "      <td>SUCCESS</td>\n",
       "      <td>20240307160029504139</td>\n",
       "      <td>MWSIHRVYGLTXM3EF63I6V1141LWWQ</td>\n",
       "      <td>both</td>\n",
       "      <td>Recon</td>\n",
       "    </tr>\n",
       "    <tr>\n",
       "      <th>173645</th>\n",
       "      <td>PT Bank OCBC NISP</td>\n",
       "      <td>MWSDIWBJ6BF5U2VAWIOE1RR2ON43Y</td>\n",
       "      <td>300000</td>\n",
       "      <td>600</td>\n",
       "      <td>300.0</td>\n",
       "      <td>300000</td>\n",
       "      <td>3/7/24</td>\n",
       "      <td>20240307160013583967</td>\n",
       "      <td>c21acebe-1366-491b-8888-22aa525c17c4</td>\n",
       "      <td>2024-03-07</td>\n",
       "      <td>...</td>\n",
       "      <td>300000.0</td>\n",
       "      <td>666.0</td>\n",
       "      <td>0.0</td>\n",
       "      <td>300.0</td>\n",
       "      <td>SUCCESS</td>\n",
       "      <td>SUCCESS</td>\n",
       "      <td>20240307160013583967</td>\n",
       "      <td>MWSDIWBJ6BF5U2VAWIOE1RR2ON43Y</td>\n",
       "      <td>both</td>\n",
       "      <td>Recon</td>\n",
       "    </tr>\n",
       "    <tr>\n",
       "      <th>173646</th>\n",
       "      <td>CIMB Niaga</td>\n",
       "      <td>MWS5TYAS1FSBPKUUH23P3G1G6BX5I</td>\n",
       "      <td>300000</td>\n",
       "      <td>800</td>\n",
       "      <td>400.0</td>\n",
       "      <td>300000</td>\n",
       "      <td>3/7/24</td>\n",
       "      <td>20240307160000034521</td>\n",
       "      <td>f8346e1b-c5c0-4146-876d-287f6d6ce65c</td>\n",
       "      <td>2024-03-07</td>\n",
       "      <td>...</td>\n",
       "      <td>300000.0</td>\n",
       "      <td>555.0</td>\n",
       "      <td>0.0</td>\n",
       "      <td>400.0</td>\n",
       "      <td>SUCCESS</td>\n",
       "      <td>SUCCESS</td>\n",
       "      <td>20240307160000034521</td>\n",
       "      <td>MWS5TYAS1FSBPKUUH23P3G1G6BX5I</td>\n",
       "      <td>both</td>\n",
       "      <td>Recon</td>\n",
       "    </tr>\n",
       "  </tbody>\n",
       "</table>\n",
       "<p>173647 rows × 22 columns</p>\n",
       "</div>"
      ],
      "text/plain": [
       "       Merchant Display Name_MUTASI          Transaction ID_MUTASI  \\\n",
       "0                 PT Bank OCBC NISP  MWSB2O6JGN2C2AG3IO5S2LNAZ2UIM   \n",
       "1                        CIMB Niaga  MWSKL5EDOUJCCCRGFGRSCP6O1FBBM   \n",
       "2                        CIMB Niaga  MWSJ2OLZKFAERBHAQTRZUSDSDKY6M   \n",
       "3                 PT Bank OCBC NISP  MWSNUV2XG4IEZHIIADD3YJCDFER3Y   \n",
       "4                        CIMB Niaga  MWSTKHMMJM5WYANWPZJPQTIH3KUC3   \n",
       "...                             ...                            ...   \n",
       "173642                   CIMB Niaga  MWSOAWRHYG2KOHKZ4DZH45HUKYIK3   \n",
       "173643                   CIMB Niaga  MWSKBBSOPXRFI2Z4C1XDZ2RSRP1ZQ   \n",
       "173644            PT Bank OCBC NISP  MWSIHRVYGLTXM3EF63I6V1141LWWQ   \n",
       "173645            PT Bank OCBC NISP  MWSDIWBJ6BF5U2VAWIOE1RR2ON43Y   \n",
       "173646                   CIMB Niaga  MWS5TYAS1FSBPKUUH23P3G1G6BX5I   \n",
       "\n",
       "        Disbursement Amount_MUTASI  Fee (Processing)_MUTASI  Fee/2_MUTASI  \\\n",
       "0                           500000                      600         300.0   \n",
       "1                           500000                      800         400.0   \n",
       "2                            99000                      800         400.0   \n",
       "3                           100000                      600         300.0   \n",
       "4                           129000                      800         400.0   \n",
       "...                            ...                      ...           ...   \n",
       "173642                      120000                      800         400.0   \n",
       "173643                       40000                      800         400.0   \n",
       "173644                      248394                      600         300.0   \n",
       "173645                      300000                      600         300.0   \n",
       "173646                      300000                      800         400.0   \n",
       "\n",
       "        Transaction Amount_MUTASI Update Time_MUTASI  \\\n",
       "0                          500000             3/1/24   \n",
       "1                          500000             3/1/24   \n",
       "2                           99000             3/1/24   \n",
       "3                          100000             3/1/24   \n",
       "4                          129000             3/1/24   \n",
       "...                           ...                ...   \n",
       "173642                     120000             3/7/24   \n",
       "173643                      40000             3/7/24   \n",
       "173644                     248394             3/7/24   \n",
       "173645                     300000             3/7/24   \n",
       "173646                     300000             3/7/24   \n",
       "\n",
       "       External Reference ID_MUTASI                             Tx ID_GDS  \\\n",
       "0              20240229175947849571  a6dbac10-f8e7-46d0-813b-6567ed23e4f3   \n",
       "1              20240229175946236581  65106d9c-e6a6-4c44-8e52-a39deac9785e   \n",
       "2              20240229175942248920  447cfee5-89c4-4255-b28c-102adf243e1d   \n",
       "3              20240229175936913536  d35f402f-da63-4772-b0c5-e87d54ac4a6f   \n",
       "4              20240229175927237691  de67c277-dd2b-415b-9968-f932746b140f   \n",
       "...                             ...                                   ...   \n",
       "173642         20240307160032719416  8610462e-a675-4be4-a138-0fa85f3e2266   \n",
       "173643         20240307160031584222  8f8279db-1137-478f-ad0c-97c53493558a   \n",
       "173644         20240307160029504139  6111433a-ffbb-4da5-900f-1c374a3c7515   \n",
       "173645         20240307160013583967  c21acebe-1366-491b-8888-22aa525c17c4   \n",
       "173646         20240307160000034521  f8346e1b-c5c0-4146-876d-287f6d6ce65c   \n",
       "\n",
       "              Date  ... Amount_GDS Admin Fee_GDS  Admin Fee Invoice_GDS  \\\n",
       "0       2024-03-01  ...   500000.0         666.0                    0.0   \n",
       "1       2024-03-01  ...   500000.0         555.0                    0.0   \n",
       "2       2024-03-01  ...    99000.0         555.0                    0.0   \n",
       "3       2024-03-01  ...   100000.0         666.0                    0.0   \n",
       "4       2024-03-01  ...   129000.0         555.0                    0.0   \n",
       "...            ...  ...        ...           ...                    ...   \n",
       "173642  2024-03-07  ...   120000.0         555.0                    0.0   \n",
       "173643  2024-03-07  ...    40000.0         555.0                    0.0   \n",
       "173644  2024-03-07  ...   248394.0         666.0                    0.0   \n",
       "173645  2024-03-07  ...   300000.0         666.0                    0.0   \n",
       "173646  2024-03-07  ...   300000.0         555.0                    0.0   \n",
       "\n",
       "        Disburse Cost_GDS  Tx Status_GDS  disburse_status_GDS  \\\n",
       "0                   300.0        SUCCESS              SUCCESS   \n",
       "1                   400.0        SUCCESS              SUCCESS   \n",
       "2                   400.0        SUCCESS              SUCCESS   \n",
       "3                   300.0        SUCCESS              SUCCESS   \n",
       "4                   400.0        SUCCESS              SUCCESS   \n",
       "...                   ...            ...                  ...   \n",
       "173642              400.0        SUCCESS              SUCCESS   \n",
       "173643              400.0        SUCCESS              SUCCESS   \n",
       "173644              300.0        SUCCESS              SUCCESS   \n",
       "173645              300.0        SUCCESS              SUCCESS   \n",
       "173646              400.0        SUCCESS              SUCCESS   \n",
       "\n",
       "        Reference Number_GDS              Vendor Ref ID_GDS _merge Match?  \n",
       "0       20240229175947849571  MWSB2O6JGN2C2AG3IO5S2LNAZ2UIM   both  Recon  \n",
       "1       20240229175946236581  MWSKL5EDOUJCCCRGFGRSCP6O1FBBM   both  Recon  \n",
       "2       20240229175942248920  MWSJ2OLZKFAERBHAQTRZUSDSDKY6M   both  Recon  \n",
       "3       20240229175936913536  MWSNUV2XG4IEZHIIADD3YJCDFER3Y   both  Recon  \n",
       "4       20240229175927237691  MWSTKHMMJM5WYANWPZJPQTIH3KUC3   both  Recon  \n",
       "...                      ...                            ...    ...    ...  \n",
       "173642  20240307160032719416  MWSOAWRHYG2KOHKZ4DZH45HUKYIK3   both  Recon  \n",
       "173643  20240307160031584222  MWSKBBSOPXRFI2Z4C1XDZ2RSRP1ZQ   both  Recon  \n",
       "173644  20240307160029504139  MWSIHRVYGLTXM3EF63I6V1141LWWQ   both  Recon  \n",
       "173645  20240307160013583967  MWSDIWBJ6BF5U2VAWIOE1RR2ON43Y   both  Recon  \n",
       "173646  20240307160000034521  MWS5TYAS1FSBPKUUH23P3G1G6BX5I   both  Recon  \n",
       "\n",
       "[173647 rows x 22 columns]"
      ]
     },
     "execution_count": 25,
     "metadata": {},
     "output_type": "execute_result"
    }
   ],
   "source": [
    "data_compare"
   ]
  },
  {
   "cell_type": "code",
   "execution_count": 26,
   "id": "7acada60",
   "metadata": {},
   "outputs": [],
   "source": [
    "#groupByUsernametes = data_compare[['External Reference ID_MUTASI','Date','Transaction Amount_MUTASI','Fee/2_MUTASI','Amount_GDS','Reference Number_GDS', 'Disburse Cost_GDS']]"
   ]
  },
  {
   "cell_type": "code",
   "execution_count": 27,
   "id": "478194c9",
   "metadata": {},
   "outputs": [],
   "source": [
    "#groupByUsernametes"
   ]
  },
  {
   "cell_type": "code",
   "execution_count": 28,
   "id": "493885e4",
   "metadata": {},
   "outputs": [],
   "source": [
    "#groupByUsernametes = groupByUsernametes.groupby(['Date']).agg({'External Reference ID_MUTASI':'count','Transaction Amount_MUTASI' : 'sum', 'Fee/2_MUTASI' :'sum', 'Reference Number_GDS' : 'count','Amount_GDS' : 'sum', 'Disburse Cost_GDS' : 'sum' }, dropna=False)"
   ]
  },
  {
   "cell_type": "code",
   "execution_count": 29,
   "id": "796748ab",
   "metadata": {},
   "outputs": [],
   "source": [
    "#groupByUsernametes"
   ]
  },
  {
   "cell_type": "code",
   "execution_count": 30,
   "id": "d002ac2c",
   "metadata": {},
   "outputs": [],
   "source": [
    "#groupByUsername = data_compare[['Username','Product Type','Amount','Disburse Cost','Admin Fee', 'Admin Fee Invoice']]"
   ]
  },
  {
   "cell_type": "code",
   "execution_count": 31,
   "id": "8ffbbe38",
   "metadata": {},
   "outputs": [],
   "source": [
    "#groupByUsername = groupByUsername.groupby(['Username','Product Type']).agg({'Username':'count','Amount' : 'sum', 'Disburse Cost' :'sum', 'Admin Fee' : 'sum', 'Admin Fee Invoice' : 'sum' })"
   ]
  },
  {
   "cell_type": "code",
   "execution_count": 32,
   "id": "cbcbc1fa",
   "metadata": {},
   "outputs": [],
   "source": [
    "#groupByUsername"
   ]
  },
  {
   "cell_type": "code",
   "execution_count": 33,
   "id": "d03ae592",
   "metadata": {},
   "outputs": [],
   "source": [
    "with pd.ExcelWriter(\"Spay Disburse 1-7 Mar 24 New Template.xlsx\") as writer:\n",
    "    spay_gds_raw.to_excel(writer, sheet_name=\"GDS Raw\", index=False)\n",
    "    spay_mutasi_raw.to_excel(writer, sheet_name=\"Mutasi Report Raw\", index=False)\n",
    "    data_compare.to_excel(writer, sheet_name=\"Line Per Line Recon\", index=False)\n",
    "    unrecon.to_excel(writer, sheet_name=\"Unrecon\", index=False)\n",
    "    "
   ]
  },
  {
   "cell_type": "code",
   "execution_count": 34,
   "id": "6cfcb971",
   "metadata": {},
   "outputs": [
    {
     "name": "stdout",
     "output_type": "stream",
     "text": [
      "done\n"
     ]
    }
   ],
   "source": [
    "print('done')"
   ]
  },
  {
   "cell_type": "markdown",
   "id": "f48c5124",
   "metadata": {},
   "source": [
    "NIC Report (Append)"
   ]
  },
  {
   "cell_type": "code",
   "execution_count": 35,
   "id": "321140be",
   "metadata": {},
   "outputs": [],
   "source": [
    "NIC = spay_mutasi_raw[['Update Time', 'Transaction ID','Transaction Amount','Fee (Processing)']]"
   ]
  },
  {
   "cell_type": "code",
   "execution_count": 36,
   "id": "c9fb90ee",
   "metadata": {},
   "outputs": [
    {
     "name": "stderr",
     "output_type": "stream",
     "text": [
      "/var/folders/sg/v7nz4brs3sq_pn793b_nw89c0000gp/T/ipykernel_17786/3825831630.py:1: SettingWithCopyWarning: \n",
      "A value is trying to be set on a copy of a slice from a DataFrame\n",
      "\n",
      "See the caveats in the documentation: https://pandas.pydata.org/pandas-docs/stable/user_guide/indexing.html#returning-a-view-versus-a-copy\n",
      "  NIC.rename(columns={\"Update Time\": \"Date\", 'Transaction Amount' : 'TPV', 'Fee (Processing)' : 'MM Cost'}, inplace=True)\n"
     ]
    }
   ],
   "source": [
    "NIC.rename(columns={\"Update Time\": \"Date\", 'Transaction Amount' : 'TPV', 'Fee (Processing)' : 'MM Cost'}, inplace=True)"
   ]
  },
  {
   "cell_type": "code",
   "execution_count": 37,
   "id": "54012d68",
   "metadata": {},
   "outputs": [],
   "source": [
    "NIC = NIC.groupby(['Date']).agg({'Transaction ID':'count','TPV' : 'sum', 'MM Cost' :'sum'})"
   ]
  },
  {
   "cell_type": "code",
   "execution_count": 38,
   "id": "58b23ed8",
   "metadata": {},
   "outputs": [],
   "source": [
    "NIC.rename(columns={\"Transaction ID\": \"#Trx\"}, inplace = True)"
   ]
  },
  {
   "cell_type": "code",
   "execution_count": 39,
   "id": "73b0a0b8",
   "metadata": {},
   "outputs": [
    {
     "data": {
      "text/html": [
       "<div>\n",
       "<style scoped>\n",
       "    .dataframe tbody tr th:only-of-type {\n",
       "        vertical-align: middle;\n",
       "    }\n",
       "\n",
       "    .dataframe tbody tr th {\n",
       "        vertical-align: top;\n",
       "    }\n",
       "\n",
       "    .dataframe thead th {\n",
       "        text-align: right;\n",
       "    }\n",
       "</style>\n",
       "<table border=\"1\" class=\"dataframe\">\n",
       "  <thead>\n",
       "    <tr style=\"text-align: right;\">\n",
       "      <th></th>\n",
       "      <th>#Trx</th>\n",
       "      <th>TPV</th>\n",
       "      <th>MM Cost</th>\n",
       "    </tr>\n",
       "    <tr>\n",
       "      <th>Date</th>\n",
       "      <th></th>\n",
       "      <th></th>\n",
       "      <th></th>\n",
       "    </tr>\n",
       "  </thead>\n",
       "  <tbody>\n",
       "    <tr>\n",
       "      <th>3/1/24</th>\n",
       "      <td>27199</td>\n",
       "      <td>11304100261</td>\n",
       "      <td>20017600</td>\n",
       "    </tr>\n",
       "    <tr>\n",
       "      <th>3/2/24</th>\n",
       "      <td>27340</td>\n",
       "      <td>8033111917</td>\n",
       "      <td>19575800</td>\n",
       "    </tr>\n",
       "    <tr>\n",
       "      <th>3/3/24</th>\n",
       "      <td>35106</td>\n",
       "      <td>9021705057</td>\n",
       "      <td>25502000</td>\n",
       "    </tr>\n",
       "    <tr>\n",
       "      <th>3/4/24</th>\n",
       "      <td>21578</td>\n",
       "      <td>6896995584</td>\n",
       "      <td>15757600</td>\n",
       "    </tr>\n",
       "    <tr>\n",
       "      <th>3/5/24</th>\n",
       "      <td>23892</td>\n",
       "      <td>10164849936</td>\n",
       "      <td>17809000</td>\n",
       "    </tr>\n",
       "    <tr>\n",
       "      <th>3/6/24</th>\n",
       "      <td>21343</td>\n",
       "      <td>6076745723</td>\n",
       "      <td>16014600</td>\n",
       "    </tr>\n",
       "    <tr>\n",
       "      <th>3/7/24</th>\n",
       "      <td>17190</td>\n",
       "      <td>4322399152</td>\n",
       "      <td>12925200</td>\n",
       "    </tr>\n",
       "  </tbody>\n",
       "</table>\n",
       "</div>"
      ],
      "text/plain": [
       "         #Trx          TPV   MM Cost\n",
       "Date                                \n",
       "3/1/24  27199  11304100261  20017600\n",
       "3/2/24  27340   8033111917  19575800\n",
       "3/3/24  35106   9021705057  25502000\n",
       "3/4/24  21578   6896995584  15757600\n",
       "3/5/24  23892  10164849936  17809000\n",
       "3/6/24  21343   6076745723  16014600\n",
       "3/7/24  17190   4322399152  12925200"
      ]
     },
     "execution_count": 39,
     "metadata": {},
     "output_type": "execute_result"
    }
   ],
   "source": [
    "NIC"
   ]
  },
  {
   "cell_type": "code",
   "execution_count": 40,
   "id": "354ba4a0",
   "metadata": {},
   "outputs": [],
   "source": [
    "with pd.ExcelWriter(\"NIC Spay Disburse.xlsx\") as writer:\n",
    "    NIC.to_excel(writer, sheet_name=\"NIC SPay Disburse\", index=True) #notes : using this code only for the first date "
   ]
  },
  {
   "cell_type": "code",
   "execution_count": 41,
   "id": "840bc1e0",
   "metadata": {},
   "outputs": [
    {
     "name": "stdout",
     "output_type": "stream",
     "text": [
      "done\n"
     ]
    }
   ],
   "source": [
    "print(\"done\")"
   ]
  },
  {
   "cell_type": "code",
   "execution_count": 42,
   "id": "0a29e98e",
   "metadata": {},
   "outputs": [],
   "source": [
    "reader = pd.read_excel('NIC Spay Disburse.xlsx')"
   ]
  },
  {
   "cell_type": "code",
   "execution_count": 43,
   "id": "ba3202e8",
   "metadata": {},
   "outputs": [
    {
     "data": {
      "text/plain": [
       "8"
      ]
     },
     "execution_count": 43,
     "metadata": {},
     "output_type": "execute_result"
    }
   ],
   "source": [
    "len(reader) +1"
   ]
  },
  {
   "cell_type": "code",
   "execution_count": 44,
   "id": "eca62221",
   "metadata": {},
   "outputs": [],
   "source": [
    "with pd.ExcelWriter('NIC Spay Disburse.xlsx',\n",
    "                    mode='a', if_sheet_exists = 'overlay') as writer:  \n",
    "    NIC.to_excel(writer, sheet_name='NIC SPay Disburse', startrow = len(reader) + 1, header=False, index=True)"
   ]
  },
  {
   "cell_type": "code",
   "execution_count": 45,
   "id": "64bac685",
   "metadata": {},
   "outputs": [
    {
     "name": "stdout",
     "output_type": "stream",
     "text": [
      "Done\n"
     ]
    }
   ],
   "source": [
    "print('Done')"
   ]
  }
 ],
 "metadata": {
  "kernelspec": {
   "display_name": "Python 3 (ipykernel)",
   "language": "python",
   "name": "python3"
  },
  "language_info": {
   "codemirror_mode": {
    "name": "ipython",
    "version": 3
   },
   "file_extension": ".py",
   "mimetype": "text/x-python",
   "name": "python",
   "nbconvert_exporter": "python",
   "pygments_lexer": "ipython3",
   "version": "3.11.5"
  }
 },
 "nbformat": 4,
 "nbformat_minor": 5
}
