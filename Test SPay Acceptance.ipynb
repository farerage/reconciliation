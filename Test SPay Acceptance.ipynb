{
 "cells": [
  {
   "cell_type": "code",
   "execution_count": 1,
   "id": "eb6c2cf3",
   "metadata": {},
   "outputs": [],
   "source": [
    "import pandas as pd"
   ]
  },
  {
   "cell_type": "code",
   "execution_count": 353,
   "id": "027e429b",
   "metadata": {},
   "outputs": [],
   "source": [
    "df1 = pd.read_csv('GDS Shopee 28 Dec 23.csv')"
   ]
  },
  {
   "cell_type": "code",
   "execution_count": 169,
   "id": "7ff177e3",
   "metadata": {},
   "outputs": [],
   "source": [
    "#df1['Transaction Amount'] = df1['Transaction Amount'].astype(int)"
   ]
  },
  {
   "cell_type": "code",
   "execution_count": 238,
   "id": "8de3dc17",
   "metadata": {},
   "outputs": [
    {
     "data": {
      "text/plain": [
       "Created Date            object\n",
       "Last Updated Date       object\n",
       "Column1                 object\n",
       "Transaction Amount       int64\n",
       "Username                object\n",
       "is_testing_account        bool\n",
       "Type of Transaction     object\n",
       "Status                  object\n",
       "Referral ID             object\n",
       "admin_fee              float64\n",
       "base_admin_fee         float64\n",
       "admin_fee_invoice      float64\n",
       "deduction_cost         float64\n",
       "dtype: object"
      ]
     },
     "execution_count": 238,
     "metadata": {},
     "output_type": "execute_result"
    }
   ],
   "source": [
    "df1.dtypes"
   ]
  },
  {
   "cell_type": "code",
   "execution_count": 354,
   "id": "a1908c84",
   "metadata": {},
   "outputs": [],
   "source": [
    "df2 = pd.read_csv('Report Shopee 28 Dec 23.csv')"
   ]
  },
  {
   "cell_type": "code",
   "execution_count": 230,
   "id": "dab7ae76",
   "metadata": {},
   "outputs": [
    {
     "data": {
      "text/plain": [
       "Merchant Host                    object\n",
       "Partner Merchant ID              object\n",
       "Merchant/Store Name              object\n",
       "Transaction Type                 object\n",
       "Merchant Scope                   object\n",
       "Transaction ID                    int64\n",
       "Reference ID                     object\n",
       "Parent ID                       float64\n",
       "External Reference ID            object\n",
       "Issuer Identifier                object\n",
       "Transaction Amount                int64\n",
       "Fee (MDR)                         int64\n",
       "Settlement Amount                object\n",
       "Terminal ID                      object\n",
       "Create Time                      object\n",
       "Update Time                      object\n",
       "Adjustment Reason               float64\n",
       "Entity ID                         int64\n",
       "Fee (Cofunding)                   int64\n",
       "Reward Amount                   float64\n",
       "Reward Type                      object\n",
       "Promo Type                       object\n",
       "Payment Method                   object\n",
       "Currency Code                    object\n",
       "Voucher Promotion Event Name    float64\n",
       "Fee (Withdrawal)                float64\n",
       "dtype: object"
      ]
     },
     "execution_count": 230,
     "metadata": {},
     "output_type": "execute_result"
    }
   ],
   "source": [
    "df2.dtypes"
   ]
  },
  {
   "cell_type": "code",
   "execution_count": 93,
   "id": "3de29cd5",
   "metadata": {},
   "outputs": [],
   "source": [
    "#merged = pd.merge(df1, df2, left_on='Referral ID',right_on='External Reference ID', how='outer')"
   ]
  },
  {
   "cell_type": "code",
   "execution_count": 372,
   "id": "52d1d2a3",
   "metadata": {},
   "outputs": [],
   "source": [
    "#find the duplicated\n",
    "gds_duplicated = df1[df1['Referral ID'].duplicated()]"
   ]
  },
  {
   "cell_type": "code",
   "execution_count": 400,
   "id": "ea3c024d",
   "metadata": {},
   "outputs": [
    {
     "data": {
      "text/html": [
       "<div>\n",
       "<style scoped>\n",
       "    .dataframe tbody tr th:only-of-type {\n",
       "        vertical-align: middle;\n",
       "    }\n",
       "\n",
       "    .dataframe tbody tr th {\n",
       "        vertical-align: top;\n",
       "    }\n",
       "\n",
       "    .dataframe thead th {\n",
       "        text-align: right;\n",
       "    }\n",
       "</style>\n",
       "<table border=\"1\" class=\"dataframe\">\n",
       "  <thead>\n",
       "    <tr style=\"text-align: right;\">\n",
       "      <th></th>\n",
       "      <th>Created Date</th>\n",
       "      <th>Last Updated Date</th>\n",
       "      <th>Column1</th>\n",
       "      <th>Transaction Amount</th>\n",
       "      <th>Username</th>\n",
       "      <th>is_testing_account</th>\n",
       "      <th>Type of Transaction</th>\n",
       "      <th>Status</th>\n",
       "      <th>Referral ID</th>\n",
       "      <th>admin_fee</th>\n",
       "      <th>base_admin_fee</th>\n",
       "      <th>admin_fee_invoice</th>\n",
       "      <th>deduction_cost</th>\n",
       "    </tr>\n",
       "  </thead>\n",
       "  <tbody>\n",
       "    <tr>\n",
       "      <th>1</th>\n",
       "      <td>12/28/23 23:59</td>\n",
       "      <td>12/28/23</td>\n",
       "      <td>11:59:41</td>\n",
       "      <td>40000</td>\n",
       "      <td>payhere</td>\n",
       "      <td>False</td>\n",
       "      <td>SHOPEEPAY_JUMPAPP</td>\n",
       "      <td>SUCCESS</td>\n",
       "      <td>2312MXP566F4</td>\n",
       "      <td>799.0</td>\n",
       "      <td>720.0</td>\n",
       "      <td>0.0</td>\n",
       "      <td>360.0</td>\n",
       "    </tr>\n",
       "    <tr>\n",
       "      <th>2</th>\n",
       "      <td>12/28/23 23:59</td>\n",
       "      <td>12/28/23</td>\n",
       "      <td>11:59:41</td>\n",
       "      <td>40000</td>\n",
       "      <td>payhere</td>\n",
       "      <td>False</td>\n",
       "      <td>SHOPEEPAY_JUMPAPP</td>\n",
       "      <td>SUCCESS</td>\n",
       "      <td>2312MXP566F4</td>\n",
       "      <td>799.0</td>\n",
       "      <td>720.0</td>\n",
       "      <td>0.0</td>\n",
       "      <td>360.0</td>\n",
       "    </tr>\n",
       "    <tr>\n",
       "      <th>4</th>\n",
       "      <td>12/28/23 23:59</td>\n",
       "      <td>12/28/23</td>\n",
       "      <td>11:59:56</td>\n",
       "      <td>100000</td>\n",
       "      <td>andalanmotors</td>\n",
       "      <td>False</td>\n",
       "      <td>SHOPEEPAY_JUMPAPP</td>\n",
       "      <td>SUCCESS</td>\n",
       "      <td>2312AEK3UZFL</td>\n",
       "      <td>2530.0</td>\n",
       "      <td>2279.0</td>\n",
       "      <td>0.0</td>\n",
       "      <td>900.0</td>\n",
       "    </tr>\n",
       "    <tr>\n",
       "      <th>5</th>\n",
       "      <td>12/28/23 23:59</td>\n",
       "      <td>12/28/23</td>\n",
       "      <td>11:59:56</td>\n",
       "      <td>100000</td>\n",
       "      <td>andalanmotors</td>\n",
       "      <td>False</td>\n",
       "      <td>SHOPEEPAY_JUMPAPP</td>\n",
       "      <td>SUCCESS</td>\n",
       "      <td>2312AEK3UZFL</td>\n",
       "      <td>2530.0</td>\n",
       "      <td>2279.0</td>\n",
       "      <td>0.0</td>\n",
       "      <td>900.0</td>\n",
       "    </tr>\n",
       "    <tr>\n",
       "      <th>6</th>\n",
       "      <td>12/28/23 23:59</td>\n",
       "      <td>12/28/23</td>\n",
       "      <td>11:59:56</td>\n",
       "      <td>100000</td>\n",
       "      <td>andalanmotors</td>\n",
       "      <td>False</td>\n",
       "      <td>SHOPEEPAY_JUMPAPP</td>\n",
       "      <td>SUCCESS</td>\n",
       "      <td>2312AEK3UZFL</td>\n",
       "      <td>2530.0</td>\n",
       "      <td>2279.0</td>\n",
       "      <td>0.0</td>\n",
       "      <td>900.0</td>\n",
       "    </tr>\n",
       "  </tbody>\n",
       "</table>\n",
       "</div>"
      ],
      "text/plain": [
       "     Created Date Last Updated Date   Column1  Transaction Amount  \\\n",
       "1  12/28/23 23:59          12/28/23  11:59:41               40000   \n",
       "2  12/28/23 23:59          12/28/23  11:59:41               40000   \n",
       "4  12/28/23 23:59          12/28/23  11:59:56              100000   \n",
       "5  12/28/23 23:59          12/28/23  11:59:56              100000   \n",
       "6  12/28/23 23:59          12/28/23  11:59:56              100000   \n",
       "\n",
       "        Username  is_testing_account Type of Transaction   Status  \\\n",
       "1        payhere               False   SHOPEEPAY_JUMPAPP  SUCCESS   \n",
       "2        payhere               False   SHOPEEPAY_JUMPAPP  SUCCESS   \n",
       "4  andalanmotors               False   SHOPEEPAY_JUMPAPP  SUCCESS   \n",
       "5  andalanmotors               False   SHOPEEPAY_JUMPAPP  SUCCESS   \n",
       "6  andalanmotors               False   SHOPEEPAY_JUMPAPP  SUCCESS   \n",
       "\n",
       "    Referral ID  admin_fee  base_admin_fee  admin_fee_invoice  deduction_cost  \n",
       "1  2312MXP566F4      799.0           720.0                0.0           360.0  \n",
       "2  2312MXP566F4      799.0           720.0                0.0           360.0  \n",
       "4  2312AEK3UZFL     2530.0          2279.0                0.0           900.0  \n",
       "5  2312AEK3UZFL     2530.0          2279.0                0.0           900.0  \n",
       "6  2312AEK3UZFL     2530.0          2279.0                0.0           900.0  "
      ]
     },
     "execution_count": 400,
     "metadata": {},
     "output_type": "execute_result"
    }
   ],
   "source": [
    "gds_duplicated"
   ]
  },
  {
   "cell_type": "code",
   "execution_count": 374,
   "id": "691baf95",
   "metadata": {},
   "outputs": [],
   "source": [
    "dash_duplicated = df2[df2['External Reference ID'].duplicated()]"
   ]
  },
  {
   "cell_type": "code",
   "execution_count": 375,
   "id": "9470963f",
   "metadata": {},
   "outputs": [
    {
     "data": {
      "text/html": [
       "<div>\n",
       "<style scoped>\n",
       "    .dataframe tbody tr th:only-of-type {\n",
       "        vertical-align: middle;\n",
       "    }\n",
       "\n",
       "    .dataframe tbody tr th {\n",
       "        vertical-align: top;\n",
       "    }\n",
       "\n",
       "    .dataframe thead th {\n",
       "        text-align: right;\n",
       "    }\n",
       "</style>\n",
       "<table border=\"1\" class=\"dataframe\">\n",
       "  <thead>\n",
       "    <tr style=\"text-align: right;\">\n",
       "      <th></th>\n",
       "      <th>Merchant Host</th>\n",
       "      <th>Partner Merchant ID</th>\n",
       "      <th>Merchant/Store Name</th>\n",
       "      <th>Transaction Type</th>\n",
       "      <th>Merchant Scope</th>\n",
       "      <th>Transaction ID</th>\n",
       "      <th>Reference ID</th>\n",
       "      <th>Parent ID</th>\n",
       "      <th>External Reference ID</th>\n",
       "      <th>Issuer Identifier</th>\n",
       "      <th>...</th>\n",
       "      <th>Adjustment Reason</th>\n",
       "      <th>Entity ID</th>\n",
       "      <th>Fee (Cofunding)</th>\n",
       "      <th>Reward Amount</th>\n",
       "      <th>Reward Type</th>\n",
       "      <th>Promo Type</th>\n",
       "      <th>Payment Method</th>\n",
       "      <th>Currency Code</th>\n",
       "      <th>Voucher Promotion Event Name</th>\n",
       "      <th>Fee (Withdrawal)</th>\n",
       "    </tr>\n",
       "  </thead>\n",
       "  <tbody>\n",
       "  </tbody>\n",
       "</table>\n",
       "<p>0 rows × 26 columns</p>\n",
       "</div>"
      ],
      "text/plain": [
       "Empty DataFrame\n",
       "Columns: [Merchant Host, Partner Merchant ID, Merchant/Store Name, Transaction Type, Merchant Scope, Transaction ID, Reference ID, Parent ID, External Reference ID, Issuer Identifier, Transaction Amount, Fee (MDR), Settlement Amount, Terminal ID, Create Time, Update Time, Adjustment Reason, Entity ID, Fee (Cofunding), Reward Amount, Reward Type, Promo Type, Payment Method, Currency Code, Voucher Promotion Event Name, Fee (Withdrawal)]\n",
       "Index: []\n",
       "\n",
       "[0 rows x 26 columns]"
      ]
     },
     "execution_count": 375,
     "metadata": {},
     "output_type": "execute_result"
    }
   ],
   "source": [
    "dash_duplicated"
   ]
  },
  {
   "cell_type": "code",
   "execution_count": 376,
   "id": "54213a2e",
   "metadata": {},
   "outputs": [
    {
     "name": "stdout",
     "output_type": "stream",
     "text": [
      "4063\n",
      "4059\n"
     ]
    }
   ],
   "source": [
    "#Check number of rows each dataframe\n",
    "print(len(df1))\n",
    "print(len(df2))"
   ]
  },
  {
   "cell_type": "code",
   "execution_count": 384,
   "id": "141edffa",
   "metadata": {},
   "outputs": [],
   "source": [
    "df1 = df1.drop_duplicates()"
   ]
  },
  {
   "cell_type": "code",
   "execution_count": 395,
   "id": "3d606844",
   "metadata": {},
   "outputs": [
    {
     "data": {
      "text/plain": [
       "4058"
      ]
     },
     "execution_count": 395,
     "metadata": {},
     "output_type": "execute_result"
    }
   ],
   "source": [
    "len(df1)"
   ]
  },
  {
   "cell_type": "markdown",
   "id": "debef494",
   "metadata": {},
   "source": [
    "Create New dataframe to input necessary column"
   ]
  },
  {
   "cell_type": "code",
   "execution_count": 385,
   "id": "114eb8ae",
   "metadata": {},
   "outputs": [],
   "source": [
    "new_df = df1[['Referral ID','Transaction Amount']].copy()"
   ]
  },
  {
   "cell_type": "code",
   "execution_count": 386,
   "id": "430c7cd6",
   "metadata": {},
   "outputs": [],
   "source": [
    "new_df2 = df2[['External Reference ID','Transaction Amount']].copy()"
   ]
  },
  {
   "cell_type": "code",
   "execution_count": 85,
   "id": "bfd361ca",
   "metadata": {},
   "outputs": [],
   "source": [
    "#new_df['report id'] = df2['External Reference ID']"
   ]
  },
  {
   "cell_type": "code",
   "execution_count": 387,
   "id": "e014ad81",
   "metadata": {},
   "outputs": [],
   "source": [
    "new_df['Transaction Amount'] = new_df['Transaction Amount'].astype(int)"
   ]
  },
  {
   "cell_type": "code",
   "execution_count": 86,
   "id": "038eedc6",
   "metadata": {},
   "outputs": [],
   "source": [
    "#new_df['amount'] = df2['Transaction Amount']"
   ]
  },
  {
   "cell_type": "code",
   "execution_count": 338,
   "id": "e982f8c7",
   "metadata": {},
   "outputs": [],
   "source": [
    "#new_df2.rename(columns={\"External Reference ID\": \"Referral ID\"}, inplace=True)"
   ]
  },
  {
   "cell_type": "code",
   "execution_count": 388,
   "id": "857ec11c",
   "metadata": {},
   "outputs": [
    {
     "data": {
      "text/html": [
       "<div>\n",
       "<style scoped>\n",
       "    .dataframe tbody tr th:only-of-type {\n",
       "        vertical-align: middle;\n",
       "    }\n",
       "\n",
       "    .dataframe tbody tr th {\n",
       "        vertical-align: top;\n",
       "    }\n",
       "\n",
       "    .dataframe thead th {\n",
       "        text-align: right;\n",
       "    }\n",
       "</style>\n",
       "<table border=\"1\" class=\"dataframe\">\n",
       "  <thead>\n",
       "    <tr style=\"text-align: right;\">\n",
       "      <th></th>\n",
       "      <th>External Reference ID</th>\n",
       "      <th>Transaction Amount</th>\n",
       "    </tr>\n",
       "  </thead>\n",
       "  <tbody>\n",
       "    <tr>\n",
       "      <th>0</th>\n",
       "      <td>2312YRX4Z9VT</td>\n",
       "      <td>43000</td>\n",
       "    </tr>\n",
       "    <tr>\n",
       "      <th>1</th>\n",
       "      <td>23120G9QT4MG</td>\n",
       "      <td>99000</td>\n",
       "    </tr>\n",
       "    <tr>\n",
       "      <th>2</th>\n",
       "      <td>23123PFGB6Z9</td>\n",
       "      <td>49000</td>\n",
       "    </tr>\n",
       "    <tr>\n",
       "      <th>3</th>\n",
       "      <td>2312PIDCTN5N</td>\n",
       "      <td>18000</td>\n",
       "    </tr>\n",
       "    <tr>\n",
       "      <th>4</th>\n",
       "      <td>23122YM28AA3</td>\n",
       "      <td>141088</td>\n",
       "    </tr>\n",
       "    <tr>\n",
       "      <th>...</th>\n",
       "      <td>...</td>\n",
       "      <td>...</td>\n",
       "    </tr>\n",
       "    <tr>\n",
       "      <th>4054</th>\n",
       "      <td>23121MUUV74M</td>\n",
       "      <td>50000</td>\n",
       "    </tr>\n",
       "    <tr>\n",
       "      <th>4055</th>\n",
       "      <td>2312D66BEHRF</td>\n",
       "      <td>4000000</td>\n",
       "    </tr>\n",
       "    <tr>\n",
       "      <th>4056</th>\n",
       "      <td>23121DDS7IP6</td>\n",
       "      <td>100000</td>\n",
       "    </tr>\n",
       "    <tr>\n",
       "      <th>4057</th>\n",
       "      <td>2312DTNU78JI</td>\n",
       "      <td>91000</td>\n",
       "    </tr>\n",
       "    <tr>\n",
       "      <th>4058</th>\n",
       "      <td>2312YRX4Z9VTTTT</td>\n",
       "      <td>43000</td>\n",
       "    </tr>\n",
       "  </tbody>\n",
       "</table>\n",
       "<p>4059 rows × 2 columns</p>\n",
       "</div>"
      ],
      "text/plain": [
       "     External Reference ID  Transaction Amount\n",
       "0             2312YRX4Z9VT               43000\n",
       "1             23120G9QT4MG               99000\n",
       "2             23123PFGB6Z9               49000\n",
       "3             2312PIDCTN5N               18000\n",
       "4             23122YM28AA3              141088\n",
       "...                    ...                 ...\n",
       "4054          23121MUUV74M               50000\n",
       "4055          2312D66BEHRF             4000000\n",
       "4056          23121DDS7IP6              100000\n",
       "4057          2312DTNU78JI               91000\n",
       "4058       2312YRX4Z9VTTTT               43000\n",
       "\n",
       "[4059 rows x 2 columns]"
      ]
     },
     "execution_count": 388,
     "metadata": {},
     "output_type": "execute_result"
    }
   ],
   "source": [
    "new_df2"
   ]
  },
  {
   "cell_type": "code",
   "execution_count": 389,
   "id": "9cae7c24",
   "metadata": {},
   "outputs": [],
   "source": [
    "data_compare = pd.merge(new_df,new_df2, left_on='Referral ID', right_on='External Reference ID', how='outer', indicator=True)\n",
    "#data_compare = pd.merge(new_df,new_df2, how='outer', on='Referral ID' ,suffixes = ('_left', '_right'))"
   ]
  },
  {
   "cell_type": "code",
   "execution_count": 390,
   "id": "26494ee8",
   "metadata": {},
   "outputs": [
    {
     "data": {
      "text/html": [
       "<div>\n",
       "<style scoped>\n",
       "    .dataframe tbody tr th:only-of-type {\n",
       "        vertical-align: middle;\n",
       "    }\n",
       "\n",
       "    .dataframe tbody tr th {\n",
       "        vertical-align: top;\n",
       "    }\n",
       "\n",
       "    .dataframe thead th {\n",
       "        text-align: right;\n",
       "    }\n",
       "</style>\n",
       "<table border=\"1\" class=\"dataframe\">\n",
       "  <thead>\n",
       "    <tr style=\"text-align: right;\">\n",
       "      <th></th>\n",
       "      <th>Referral ID</th>\n",
       "      <th>Transaction Amount_x</th>\n",
       "      <th>External Reference ID</th>\n",
       "      <th>Transaction Amount_y</th>\n",
       "      <th>_merge</th>\n",
       "    </tr>\n",
       "  </thead>\n",
       "  <tbody>\n",
       "    <tr>\n",
       "      <th>0</th>\n",
       "      <td>2312MXP566F4</td>\n",
       "      <td>40000.0</td>\n",
       "      <td>2312MXP566F4</td>\n",
       "      <td>40000</td>\n",
       "      <td>both</td>\n",
       "    </tr>\n",
       "    <tr>\n",
       "      <th>1</th>\n",
       "      <td>2312AEK3UZFL</td>\n",
       "      <td>100000.0</td>\n",
       "      <td>2312AEK3UZFL</td>\n",
       "      <td>100000</td>\n",
       "      <td>both</td>\n",
       "    </tr>\n",
       "    <tr>\n",
       "      <th>2</th>\n",
       "      <td>2312P4HAQ6L3</td>\n",
       "      <td>60000.0</td>\n",
       "      <td>2312P4HAQ6L3</td>\n",
       "      <td>60000</td>\n",
       "      <td>both</td>\n",
       "    </tr>\n",
       "    <tr>\n",
       "      <th>3</th>\n",
       "      <td>2312TUIJOPQS</td>\n",
       "      <td>10000.0</td>\n",
       "      <td>2312TUIJOPQS</td>\n",
       "      <td>10000</td>\n",
       "      <td>both</td>\n",
       "    </tr>\n",
       "    <tr>\n",
       "      <th>4</th>\n",
       "      <td>2312P9AACX70</td>\n",
       "      <td>200000.0</td>\n",
       "      <td>2312P9AACX70</td>\n",
       "      <td>200000</td>\n",
       "      <td>both</td>\n",
       "    </tr>\n",
       "    <tr>\n",
       "      <th>...</th>\n",
       "      <td>...</td>\n",
       "      <td>...</td>\n",
       "      <td>...</td>\n",
       "      <td>...</td>\n",
       "      <td>...</td>\n",
       "    </tr>\n",
       "    <tr>\n",
       "      <th>4054</th>\n",
       "      <td>23126S2RY25Y</td>\n",
       "      <td>10000.0</td>\n",
       "      <td>23126S2RY25Y</td>\n",
       "      <td>10000</td>\n",
       "      <td>both</td>\n",
       "    </tr>\n",
       "    <tr>\n",
       "      <th>4055</th>\n",
       "      <td>231270QYGB40</td>\n",
       "      <td>50000.0</td>\n",
       "      <td>231270QYGB40</td>\n",
       "      <td>50000</td>\n",
       "      <td>both</td>\n",
       "    </tr>\n",
       "    <tr>\n",
       "      <th>4056</th>\n",
       "      <td>2312Z1455GDO</td>\n",
       "      <td>100000.0</td>\n",
       "      <td>2312Z1455GDO</td>\n",
       "      <td>100000</td>\n",
       "      <td>both</td>\n",
       "    </tr>\n",
       "    <tr>\n",
       "      <th>4057</th>\n",
       "      <td>2312PB4KKRK9</td>\n",
       "      <td>600000.0</td>\n",
       "      <td>2312PB4KKRK9</td>\n",
       "      <td>600000</td>\n",
       "      <td>both</td>\n",
       "    </tr>\n",
       "    <tr>\n",
       "      <th>4058</th>\n",
       "      <td>NaN</td>\n",
       "      <td>NaN</td>\n",
       "      <td>2312YRX4Z9VTTTT</td>\n",
       "      <td>43000</td>\n",
       "      <td>right_only</td>\n",
       "    </tr>\n",
       "  </tbody>\n",
       "</table>\n",
       "<p>4059 rows × 5 columns</p>\n",
       "</div>"
      ],
      "text/plain": [
       "       Referral ID  Transaction Amount_x External Reference ID  \\\n",
       "0     2312MXP566F4               40000.0          2312MXP566F4   \n",
       "1     2312AEK3UZFL              100000.0          2312AEK3UZFL   \n",
       "2     2312P4HAQ6L3               60000.0          2312P4HAQ6L3   \n",
       "3     2312TUIJOPQS               10000.0          2312TUIJOPQS   \n",
       "4     2312P9AACX70              200000.0          2312P9AACX70   \n",
       "...            ...                   ...                   ...   \n",
       "4054  23126S2RY25Y               10000.0          23126S2RY25Y   \n",
       "4055  231270QYGB40               50000.0          231270QYGB40   \n",
       "4056  2312Z1455GDO              100000.0          2312Z1455GDO   \n",
       "4057  2312PB4KKRK9              600000.0          2312PB4KKRK9   \n",
       "4058           NaN                   NaN       2312YRX4Z9VTTTT   \n",
       "\n",
       "      Transaction Amount_y      _merge  \n",
       "0                    40000        both  \n",
       "1                   100000        both  \n",
       "2                    60000        both  \n",
       "3                    10000        both  \n",
       "4                   200000        both  \n",
       "...                    ...         ...  \n",
       "4054                 10000        both  \n",
       "4055                 50000        both  \n",
       "4056                100000        both  \n",
       "4057                600000        both  \n",
       "4058                 43000  right_only  \n",
       "\n",
       "[4059 rows x 5 columns]"
      ]
     },
     "execution_count": 390,
     "metadata": {},
     "output_type": "execute_result"
    }
   ],
   "source": [
    "data_compare"
   ]
  },
  {
   "cell_type": "code",
   "execution_count": 391,
   "id": "4fba0714",
   "metadata": {},
   "outputs": [],
   "source": [
    "data_compare['Transaction Amount_x'] = data_compare['Transaction Amount_x'].fillna(0).astype(int)"
   ]
  },
  {
   "cell_type": "code",
   "execution_count": 223,
   "id": "db3d4aa6",
   "metadata": {},
   "outputs": [],
   "source": [
    "#data_compare['Transaction Amount_y'] = data_compare['Transaction Amount_y'].astype(str)"
   ]
  },
  {
   "cell_type": "code",
   "execution_count": 392,
   "id": "db8ed0b6",
   "metadata": {},
   "outputs": [
    {
     "data": {
      "text/plain": [
       "Referral ID                object\n",
       "Transaction Amount_x        int64\n",
       "External Reference ID      object\n",
       "Transaction Amount_y        int64\n",
       "_merge                   category\n",
       "dtype: object"
      ]
     },
     "execution_count": 392,
     "metadata": {},
     "output_type": "execute_result"
    }
   ],
   "source": [
    "data_compare.dtypes"
   ]
  },
  {
   "cell_type": "code",
   "execution_count": 397,
   "id": "2c9a0355",
   "metadata": {},
   "outputs": [],
   "source": [
    "data_compare['Match?'] = np.where((data_compare['Transaction Amount_x'] == data_compare['Transaction Amount_y']) & (data_compare['Referral ID'] == data_compare['External Reference ID']) , True, False)"
   ]
  },
  {
   "cell_type": "code",
   "execution_count": 398,
   "id": "83c10cd0",
   "metadata": {},
   "outputs": [
    {
     "data": {
      "text/html": [
       "<div>\n",
       "<style scoped>\n",
       "    .dataframe tbody tr th:only-of-type {\n",
       "        vertical-align: middle;\n",
       "    }\n",
       "\n",
       "    .dataframe tbody tr th {\n",
       "        vertical-align: top;\n",
       "    }\n",
       "\n",
       "    .dataframe thead th {\n",
       "        text-align: right;\n",
       "    }\n",
       "</style>\n",
       "<table border=\"1\" class=\"dataframe\">\n",
       "  <thead>\n",
       "    <tr style=\"text-align: right;\">\n",
       "      <th></th>\n",
       "      <th>Referral ID</th>\n",
       "      <th>Transaction Amount_x</th>\n",
       "      <th>External Reference ID</th>\n",
       "      <th>Transaction Amount_y</th>\n",
       "      <th>_merge</th>\n",
       "      <th>Match?</th>\n",
       "    </tr>\n",
       "  </thead>\n",
       "  <tbody>\n",
       "    <tr>\n",
       "      <th>0</th>\n",
       "      <td>2312MXP566F4</td>\n",
       "      <td>40000</td>\n",
       "      <td>2312MXP566F4</td>\n",
       "      <td>40000</td>\n",
       "      <td>both</td>\n",
       "      <td>True</td>\n",
       "    </tr>\n",
       "    <tr>\n",
       "      <th>1</th>\n",
       "      <td>2312AEK3UZFL</td>\n",
       "      <td>100000</td>\n",
       "      <td>2312AEK3UZFL</td>\n",
       "      <td>100000</td>\n",
       "      <td>both</td>\n",
       "      <td>True</td>\n",
       "    </tr>\n",
       "    <tr>\n",
       "      <th>2</th>\n",
       "      <td>2312P4HAQ6L3</td>\n",
       "      <td>60000</td>\n",
       "      <td>2312P4HAQ6L3</td>\n",
       "      <td>60000</td>\n",
       "      <td>both</td>\n",
       "      <td>True</td>\n",
       "    </tr>\n",
       "    <tr>\n",
       "      <th>3</th>\n",
       "      <td>2312TUIJOPQS</td>\n",
       "      <td>10000</td>\n",
       "      <td>2312TUIJOPQS</td>\n",
       "      <td>10000</td>\n",
       "      <td>both</td>\n",
       "      <td>True</td>\n",
       "    </tr>\n",
       "    <tr>\n",
       "      <th>4</th>\n",
       "      <td>2312P9AACX70</td>\n",
       "      <td>200000</td>\n",
       "      <td>2312P9AACX70</td>\n",
       "      <td>200000</td>\n",
       "      <td>both</td>\n",
       "      <td>True</td>\n",
       "    </tr>\n",
       "    <tr>\n",
       "      <th>...</th>\n",
       "      <td>...</td>\n",
       "      <td>...</td>\n",
       "      <td>...</td>\n",
       "      <td>...</td>\n",
       "      <td>...</td>\n",
       "      <td>...</td>\n",
       "    </tr>\n",
       "    <tr>\n",
       "      <th>4054</th>\n",
       "      <td>23126S2RY25Y</td>\n",
       "      <td>10000</td>\n",
       "      <td>23126S2RY25Y</td>\n",
       "      <td>10000</td>\n",
       "      <td>both</td>\n",
       "      <td>True</td>\n",
       "    </tr>\n",
       "    <tr>\n",
       "      <th>4055</th>\n",
       "      <td>231270QYGB40</td>\n",
       "      <td>50000</td>\n",
       "      <td>231270QYGB40</td>\n",
       "      <td>50000</td>\n",
       "      <td>both</td>\n",
       "      <td>True</td>\n",
       "    </tr>\n",
       "    <tr>\n",
       "      <th>4056</th>\n",
       "      <td>2312Z1455GDO</td>\n",
       "      <td>100000</td>\n",
       "      <td>2312Z1455GDO</td>\n",
       "      <td>100000</td>\n",
       "      <td>both</td>\n",
       "      <td>True</td>\n",
       "    </tr>\n",
       "    <tr>\n",
       "      <th>4057</th>\n",
       "      <td>2312PB4KKRK9</td>\n",
       "      <td>600000</td>\n",
       "      <td>2312PB4KKRK9</td>\n",
       "      <td>600000</td>\n",
       "      <td>both</td>\n",
       "      <td>True</td>\n",
       "    </tr>\n",
       "    <tr>\n",
       "      <th>4058</th>\n",
       "      <td>NaN</td>\n",
       "      <td>0</td>\n",
       "      <td>2312YRX4Z9VTTTT</td>\n",
       "      <td>43000</td>\n",
       "      <td>right_only</td>\n",
       "      <td>False</td>\n",
       "    </tr>\n",
       "  </tbody>\n",
       "</table>\n",
       "<p>4059 rows × 6 columns</p>\n",
       "</div>"
      ],
      "text/plain": [
       "       Referral ID  Transaction Amount_x External Reference ID  \\\n",
       "0     2312MXP566F4                 40000          2312MXP566F4   \n",
       "1     2312AEK3UZFL                100000          2312AEK3UZFL   \n",
       "2     2312P4HAQ6L3                 60000          2312P4HAQ6L3   \n",
       "3     2312TUIJOPQS                 10000          2312TUIJOPQS   \n",
       "4     2312P9AACX70                200000          2312P9AACX70   \n",
       "...            ...                   ...                   ...   \n",
       "4054  23126S2RY25Y                 10000          23126S2RY25Y   \n",
       "4055  231270QYGB40                 50000          231270QYGB40   \n",
       "4056  2312Z1455GDO                100000          2312Z1455GDO   \n",
       "4057  2312PB4KKRK9                600000          2312PB4KKRK9   \n",
       "4058           NaN                     0       2312YRX4Z9VTTTT   \n",
       "\n",
       "      Transaction Amount_y      _merge  Match?  \n",
       "0                    40000        both    True  \n",
       "1                   100000        both    True  \n",
       "2                    60000        both    True  \n",
       "3                    10000        both    True  \n",
       "4                   200000        both    True  \n",
       "...                    ...         ...     ...  \n",
       "4054                 10000        both    True  \n",
       "4055                 50000        both    True  \n",
       "4056                100000        both    True  \n",
       "4057                600000        both    True  \n",
       "4058                 43000  right_only   False  \n",
       "\n",
       "[4059 rows x 6 columns]"
      ]
     },
     "execution_count": 398,
     "metadata": {},
     "output_type": "execute_result"
    }
   ],
   "source": [
    "data_compare"
   ]
  },
  {
   "cell_type": "code",
   "execution_count": 401,
   "id": "becbf91c",
   "metadata": {},
   "outputs": [],
   "source": [
    "with pd.ExcelWriter(\"path to file\\line per line.xlsx\") as writer:\n",
    "    data_compare.to_excel(writer, sheet_name=\"Line Per Line\", index=False)\n",
    "    gds_duplicated.to_excel(writer, sheet_name=\"Multiple\", index=False)"
   ]
  },
  {
   "cell_type": "code",
   "execution_count": null,
   "id": "0220b61b",
   "metadata": {},
   "outputs": [],
   "source": []
  },
  {
   "cell_type": "code",
   "execution_count": 73,
   "id": "5adceaed",
   "metadata": {},
   "outputs": [],
   "source": []
  },
  {
   "cell_type": "code",
   "execution_count": null,
   "id": "20c98b8c",
   "metadata": {},
   "outputs": [],
   "source": []
  },
  {
   "cell_type": "code",
   "execution_count": null,
   "id": "cdb8a6d3",
   "metadata": {},
   "outputs": [],
   "source": []
  }
 ],
 "metadata": {
  "kernelspec": {
   "display_name": "Python 3 (ipykernel)",
   "language": "python",
   "name": "python3"
  },
  "language_info": {
   "codemirror_mode": {
    "name": "ipython",
    "version": 3
   },
   "file_extension": ".py",
   "mimetype": "text/x-python",
   "name": "python",
   "nbconvert_exporter": "python",
   "pygments_lexer": "ipython3",
   "version": "3.11.5"
  }
 },
 "nbformat": 4,
 "nbformat_minor": 5
}
