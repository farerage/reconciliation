{
 "cells": [
  {
   "cell_type": "code",
   "execution_count": 1,
   "id": "6cf9e516",
   "metadata": {},
   "outputs": [],
   "source": [
    "import pandas as pd"
   ]
  },
  {
   "cell_type": "code",
   "execution_count": 2,
   "id": "28ee4d57",
   "metadata": {},
   "outputs": [],
   "source": [
    "import numpy as np"
   ]
  },
  {
   "cell_type": "code",
   "execution_count": 3,
   "id": "79f3d374",
   "metadata": {},
   "outputs": [],
   "source": [
    "danamon_report = pd.read_csv('Danamon Report 7 Mar 24.csv')"
   ]
  },
  {
   "cell_type": "code",
   "execution_count": 4,
   "id": "2f496f97",
   "metadata": {},
   "outputs": [],
   "source": [
    "danamon_report_raw = pd.read_csv('Danamon Report 7 Mar 24.csv')"
   ]
  },
  {
   "cell_type": "code",
   "execution_count": 5,
   "id": "6a3a8c34",
   "metadata": {},
   "outputs": [],
   "source": [
    "danamon_gds = pd.read_csv('GDS Danamon 7 Mar 24.csv')"
   ]
  },
  {
   "cell_type": "code",
   "execution_count": 6,
   "id": "2939466e",
   "metadata": {},
   "outputs": [],
   "source": [
    "danamon_gds_raw = pd.read_csv('GDS Danamon 7 Mar 24.csv')"
   ]
  },
  {
   "cell_type": "code",
   "execution_count": 7,
   "id": "3c5b1818",
   "metadata": {},
   "outputs": [
    {
     "data": {
      "text/plain": [
       "0          30234\n",
       "1          17133\n",
       "2         101181\n",
       "3         223978\n",
       "4         100780\n",
       "           ...  \n",
       "371816     10321\n",
       "371817     62870\n",
       "371818     49882\n",
       "371819     24787\n",
       "371820     60000\n",
       "Name: Transaction Amount, Length: 371821, dtype: int64"
      ]
     },
     "execution_count": 7,
     "metadata": {},
     "output_type": "execute_result"
    }
   ],
   "source": [
    "danamon_report['Transaction Amount']"
   ]
  },
  {
   "cell_type": "code",
   "execution_count": 8,
   "id": "d486a724",
   "metadata": {},
   "outputs": [],
   "source": [
    "danamon_report = danamon_report.drop(['Group Name','Merchant ID','NMID','MPAN','Merchant Name', 'QR ID', \"QR Type\", 'RRN','Terminal ID','Customer PAN', 'Issuer Code','Invoice No.', 'Merchant Partner Acc. No', 'Merchant Partner Acc. Name', 'Note'], axis=1)"
   ]
  },
  {
   "cell_type": "code",
   "execution_count": 9,
   "id": "fdb6d247",
   "metadata": {},
   "outputs": [
    {
     "data": {
      "text/html": [
       "<div>\n",
       "<style scoped>\n",
       "    .dataframe tbody tr th:only-of-type {\n",
       "        vertical-align: middle;\n",
       "    }\n",
       "\n",
       "    .dataframe tbody tr th {\n",
       "        vertical-align: top;\n",
       "    }\n",
       "\n",
       "    .dataframe thead th {\n",
       "        text-align: right;\n",
       "    }\n",
       "</style>\n",
       "<table border=\"1\" class=\"dataframe\">\n",
       "  <thead>\n",
       "    <tr style=\"text-align: right;\">\n",
       "      <th></th>\n",
       "      <th>created_datetime</th>\n",
       "      <th>last_updated_datetime</th>\n",
       "      <th>settlement_time</th>\n",
       "      <th>settlement_amount</th>\n",
       "      <th>username</th>\n",
       "      <th>product_type</th>\n",
       "      <th>charge_vendor_code</th>\n",
       "      <th>charge_status</th>\n",
       "      <th>admin_fee</th>\n",
       "      <th>base_admin_fee</th>\n",
       "      <th>admin_fee_invoice</th>\n",
       "      <th>deduction_cost</th>\n",
       "      <th>deduction_cost_gross</th>\n",
       "      <th>transaction_amount</th>\n",
       "      <th>merchant_id</th>\n",
       "      <th>id</th>\n",
       "      <th>qr_id</th>\n",
       "      <th>Transaction Channel Type</th>\n",
       "      <th>Transaction SN</th>\n",
       "    </tr>\n",
       "  </thead>\n",
       "  <tbody>\n",
       "    <tr>\n",
       "      <th>0</th>\n",
       "      <td>3/7/24 23:59</td>\n",
       "      <td>3/7/24 23:59</td>\n",
       "      <td>NaN</td>\n",
       "      <td>100074</td>\n",
       "      <td>nararyatech</td>\n",
       "      <td>Payment Checkout</td>\n",
       "      <td>DANAMON</td>\n",
       "      <td>SUCCESS</td>\n",
       "      <td>706</td>\n",
       "      <td>636</td>\n",
       "      <td>0</td>\n",
       "      <td>428.31500</td>\n",
       "      <td>705.460</td>\n",
       "      <td>100780</td>\n",
       "      <td>1039570759</td>\n",
       "      <td>2403MRT20SGS</td>\n",
       "      <td>2403BWIPOMS9</td>\n",
       "      <td>OFF_US</td>\n",
       "      <td>000083560372</td>\n",
       "    </tr>\n",
       "    <tr>\n",
       "      <th>1</th>\n",
       "      <td>3/7/24 23:59</td>\n",
       "      <td>3/7/24 23:59</td>\n",
       "      <td>NaN</td>\n",
       "      <td>49037</td>\n",
       "      <td>agrapanatekno</td>\n",
       "      <td>Payment Checkout</td>\n",
       "      <td>DANAMON</td>\n",
       "      <td>SUCCESS</td>\n",
       "      <td>346</td>\n",
       "      <td>312</td>\n",
       "      <td>0</td>\n",
       "      <td>209.87775</td>\n",
       "      <td>345.681</td>\n",
       "      <td>49383</td>\n",
       "      <td>1039810524</td>\n",
       "      <td>2403NWWD0CZ3</td>\n",
       "      <td>2403N1XGTOKN</td>\n",
       "      <td>OFF_US</td>\n",
       "      <td>000083560302</td>\n",
       "    </tr>\n",
       "    <tr>\n",
       "      <th>2</th>\n",
       "      <td>3/7/24 23:59</td>\n",
       "      <td>3/7/24 23:59</td>\n",
       "      <td>NaN</td>\n",
       "      <td>100074</td>\n",
       "      <td>agrapanatekno</td>\n",
       "      <td>Payment Checkout</td>\n",
       "      <td>DANAMON</td>\n",
       "      <td>SUCCESS</td>\n",
       "      <td>706</td>\n",
       "      <td>636</td>\n",
       "      <td>0</td>\n",
       "      <td>428.31500</td>\n",
       "      <td>705.460</td>\n",
       "      <td>100780</td>\n",
       "      <td>1039810524</td>\n",
       "      <td>2403HD670MQY</td>\n",
       "      <td>24039CJWIG7J</td>\n",
       "      <td>OFF_US</td>\n",
       "      <td>000083560354</td>\n",
       "    </tr>\n",
       "    <tr>\n",
       "      <th>3</th>\n",
       "      <td>3/7/24 23:59</td>\n",
       "      <td>3/7/24 23:59</td>\n",
       "      <td>NaN</td>\n",
       "      <td>50037</td>\n",
       "      <td>agrapanatekno</td>\n",
       "      <td>Payment Checkout</td>\n",
       "      <td>DANAMON</td>\n",
       "      <td>SUCCESS</td>\n",
       "      <td>353</td>\n",
       "      <td>318</td>\n",
       "      <td>0</td>\n",
       "      <td>214.15750</td>\n",
       "      <td>352.730</td>\n",
       "      <td>50390</td>\n",
       "      <td>1039810524</td>\n",
       "      <td>240371AN4RFE</td>\n",
       "      <td>24031XJWVEZ7</td>\n",
       "      <td>OFF_US</td>\n",
       "      <td>000083560279</td>\n",
       "    </tr>\n",
       "    <tr>\n",
       "      <th>4</th>\n",
       "      <td>3/7/24 23:59</td>\n",
       "      <td>3/7/24 23:59</td>\n",
       "      <td>NaN</td>\n",
       "      <td>297669</td>\n",
       "      <td>taratara</td>\n",
       "      <td>Payment Checkout</td>\n",
       "      <td>DANAMON</td>\n",
       "      <td>SUCCESS</td>\n",
       "      <td>2331</td>\n",
       "      <td>2100</td>\n",
       "      <td>0</td>\n",
       "      <td>1275.00000</td>\n",
       "      <td>2100.000</td>\n",
       "      <td>300000</td>\n",
       "      <td>1039225807</td>\n",
       "      <td>2403QJPZIARL</td>\n",
       "      <td>2403BUTRSW8T</td>\n",
       "      <td>OFF_US</td>\n",
       "      <td>29ee040a2105</td>\n",
       "    </tr>\n",
       "    <tr>\n",
       "      <th>...</th>\n",
       "      <td>...</td>\n",
       "      <td>...</td>\n",
       "      <td>...</td>\n",
       "      <td>...</td>\n",
       "      <td>...</td>\n",
       "      <td>...</td>\n",
       "      <td>...</td>\n",
       "      <td>...</td>\n",
       "      <td>...</td>\n",
       "      <td>...</td>\n",
       "      <td>...</td>\n",
       "      <td>...</td>\n",
       "      <td>...</td>\n",
       "      <td>...</td>\n",
       "      <td>...</td>\n",
       "      <td>...</td>\n",
       "      <td>...</td>\n",
       "      <td>...</td>\n",
       "      <td>...</td>\n",
       "    </tr>\n",
       "    <tr>\n",
       "      <th>371817</th>\n",
       "      <td>3/6/24 23:54</td>\n",
       "      <td>3/7/24 0:00</td>\n",
       "      <td>NaN</td>\n",
       "      <td>31776</td>\n",
       "      <td>abhitech</td>\n",
       "      <td>Payment Checkout</td>\n",
       "      <td>DANAMON</td>\n",
       "      <td>SUCCESS</td>\n",
       "      <td>224</td>\n",
       "      <td>202</td>\n",
       "      <td>0</td>\n",
       "      <td>136.00000</td>\n",
       "      <td>224.000</td>\n",
       "      <td>32000</td>\n",
       "      <td>1039460680</td>\n",
       "      <td>2403XRVYPUI3</td>\n",
       "      <td>2403ARTQ2PY5</td>\n",
       "      <td>OFF_US</td>\n",
       "      <td>0ztob0t59139</td>\n",
       "    </tr>\n",
       "    <tr>\n",
       "      <th>371818</th>\n",
       "      <td>3/6/24 23:53</td>\n",
       "      <td>3/7/24 0:02</td>\n",
       "      <td>NaN</td>\n",
       "      <td>25818</td>\n",
       "      <td>abhitech</td>\n",
       "      <td>Payment Checkout</td>\n",
       "      <td>DANAMON</td>\n",
       "      <td>SUCCESS</td>\n",
       "      <td>182</td>\n",
       "      <td>164</td>\n",
       "      <td>0</td>\n",
       "      <td>110.50000</td>\n",
       "      <td>182.000</td>\n",
       "      <td>26000</td>\n",
       "      <td>1039460680</td>\n",
       "      <td>2403MX69HRNW</td>\n",
       "      <td>2403VM5NP7VW</td>\n",
       "      <td>OFF_US</td>\n",
       "      <td>0ztod0q59352</td>\n",
       "    </tr>\n",
       "    <tr>\n",
       "      <th>371819</th>\n",
       "      <td>3/6/24 23:52</td>\n",
       "      <td>3/7/24 0:09</td>\n",
       "      <td>NaN</td>\n",
       "      <td>100890</td>\n",
       "      <td>webbizsolutions</td>\n",
       "      <td>Payment Checkout</td>\n",
       "      <td>DANAMON</td>\n",
       "      <td>SUCCESS</td>\n",
       "      <td>790</td>\n",
       "      <td>712</td>\n",
       "      <td>0</td>\n",
       "      <td>432.14000</td>\n",
       "      <td>711.760</td>\n",
       "      <td>101680</td>\n",
       "      <td>1039989721</td>\n",
       "      <td>2403YT9M3EK7</td>\n",
       "      <td>2403Q33R35RH</td>\n",
       "      <td>OFF_US</td>\n",
       "      <td>000079372897</td>\n",
       "    </tr>\n",
       "    <tr>\n",
       "      <th>371820</th>\n",
       "      <td>3/6/24 23:39</td>\n",
       "      <td>3/7/24 0:04</td>\n",
       "      <td>NaN</td>\n",
       "      <td>9930</td>\n",
       "      <td>nbatech</td>\n",
       "      <td>Payment Routing Acceptance</td>\n",
       "      <td>DANAMON</td>\n",
       "      <td>SUCCESS</td>\n",
       "      <td>70</td>\n",
       "      <td>63</td>\n",
       "      <td>0</td>\n",
       "      <td>42.50000</td>\n",
       "      <td>70.000</td>\n",
       "      <td>10000</td>\n",
       "      <td>1039542942</td>\n",
       "      <td>24031V8Q5BRH</td>\n",
       "      <td>2403CV4CP1NQ</td>\n",
       "      <td>OFF_US</td>\n",
       "      <td>295b03fe7277</td>\n",
       "    </tr>\n",
       "    <tr>\n",
       "      <th>371821</th>\n",
       "      <td>3/5/24 19:44</td>\n",
       "      <td>3/7/24 15:56</td>\n",
       "      <td>NaN</td>\n",
       "      <td>50037</td>\n",
       "      <td>agrapanatekno</td>\n",
       "      <td>Payment Checkout</td>\n",
       "      <td>DANAMON</td>\n",
       "      <td>SUCCESS</td>\n",
       "      <td>353</td>\n",
       "      <td>318</td>\n",
       "      <td>0</td>\n",
       "      <td>0.00000</td>\n",
       "      <td>0.000</td>\n",
       "      <td>50390</td>\n",
       "      <td>1039810524</td>\n",
       "      <td>2403IF6R9901</td>\n",
       "      <td>24031K01TZS4</td>\n",
       "      <td>OFF_US</td>\n",
       "      <td>000081651010</td>\n",
       "    </tr>\n",
       "  </tbody>\n",
       "</table>\n",
       "<p>371822 rows × 19 columns</p>\n",
       "</div>"
      ],
      "text/plain": [
       "       created_datetime last_updated_datetime  settlement_time  \\\n",
       "0          3/7/24 23:59          3/7/24 23:59              NaN   \n",
       "1          3/7/24 23:59          3/7/24 23:59              NaN   \n",
       "2          3/7/24 23:59          3/7/24 23:59              NaN   \n",
       "3          3/7/24 23:59          3/7/24 23:59              NaN   \n",
       "4          3/7/24 23:59          3/7/24 23:59              NaN   \n",
       "...                 ...                   ...              ...   \n",
       "371817     3/6/24 23:54           3/7/24 0:00              NaN   \n",
       "371818     3/6/24 23:53           3/7/24 0:02              NaN   \n",
       "371819     3/6/24 23:52           3/7/24 0:09              NaN   \n",
       "371820     3/6/24 23:39           3/7/24 0:04              NaN   \n",
       "371821     3/5/24 19:44          3/7/24 15:56              NaN   \n",
       "\n",
       "        settlement_amount         username                product_type  \\\n",
       "0                  100074      nararyatech            Payment Checkout   \n",
       "1                   49037    agrapanatekno            Payment Checkout   \n",
       "2                  100074    agrapanatekno            Payment Checkout   \n",
       "3                   50037    agrapanatekno            Payment Checkout   \n",
       "4                  297669         taratara            Payment Checkout   \n",
       "...                   ...              ...                         ...   \n",
       "371817              31776         abhitech            Payment Checkout   \n",
       "371818              25818         abhitech            Payment Checkout   \n",
       "371819             100890  webbizsolutions            Payment Checkout   \n",
       "371820               9930          nbatech  Payment Routing Acceptance   \n",
       "371821              50037    agrapanatekno            Payment Checkout   \n",
       "\n",
       "       charge_vendor_code charge_status  admin_fee  base_admin_fee  \\\n",
       "0                 DANAMON       SUCCESS        706             636   \n",
       "1                 DANAMON       SUCCESS        346             312   \n",
       "2                 DANAMON       SUCCESS        706             636   \n",
       "3                 DANAMON       SUCCESS        353             318   \n",
       "4                 DANAMON       SUCCESS       2331            2100   \n",
       "...                   ...           ...        ...             ...   \n",
       "371817            DANAMON       SUCCESS        224             202   \n",
       "371818            DANAMON       SUCCESS        182             164   \n",
       "371819            DANAMON       SUCCESS        790             712   \n",
       "371820            DANAMON       SUCCESS         70              63   \n",
       "371821            DANAMON       SUCCESS        353             318   \n",
       "\n",
       "        admin_fee_invoice  deduction_cost  deduction_cost_gross  \\\n",
       "0                       0       428.31500               705.460   \n",
       "1                       0       209.87775               345.681   \n",
       "2                       0       428.31500               705.460   \n",
       "3                       0       214.15750               352.730   \n",
       "4                       0      1275.00000              2100.000   \n",
       "...                   ...             ...                   ...   \n",
       "371817                  0       136.00000               224.000   \n",
       "371818                  0       110.50000               182.000   \n",
       "371819                  0       432.14000               711.760   \n",
       "371820                  0        42.50000                70.000   \n",
       "371821                  0         0.00000                 0.000   \n",
       "\n",
       "        transaction_amount  merchant_id            id         qr_id  \\\n",
       "0                   100780   1039570759  2403MRT20SGS  2403BWIPOMS9   \n",
       "1                    49383   1039810524  2403NWWD0CZ3  2403N1XGTOKN   \n",
       "2                   100780   1039810524  2403HD670MQY  24039CJWIG7J   \n",
       "3                    50390   1039810524  240371AN4RFE  24031XJWVEZ7   \n",
       "4                   300000   1039225807  2403QJPZIARL  2403BUTRSW8T   \n",
       "...                    ...          ...           ...           ...   \n",
       "371817               32000   1039460680  2403XRVYPUI3  2403ARTQ2PY5   \n",
       "371818               26000   1039460680  2403MX69HRNW  2403VM5NP7VW   \n",
       "371819              101680   1039989721  2403YT9M3EK7  2403Q33R35RH   \n",
       "371820               10000   1039542942  24031V8Q5BRH  2403CV4CP1NQ   \n",
       "371821               50390   1039810524  2403IF6R9901  24031K01TZS4   \n",
       "\n",
       "       Transaction Channel Type Transaction SN  \n",
       "0                        OFF_US   000083560372  \n",
       "1                        OFF_US   000083560302  \n",
       "2                        OFF_US   000083560354  \n",
       "3                        OFF_US   000083560279  \n",
       "4                        OFF_US   29ee040a2105  \n",
       "...                         ...            ...  \n",
       "371817                   OFF_US   0ztob0t59139  \n",
       "371818                   OFF_US   0ztod0q59352  \n",
       "371819                   OFF_US   000079372897  \n",
       "371820                   OFF_US   295b03fe7277  \n",
       "371821                   OFF_US   000081651010  \n",
       "\n",
       "[371822 rows x 19 columns]"
      ]
     },
     "execution_count": 9,
     "metadata": {},
     "output_type": "execute_result"
    }
   ],
   "source": [
    "danamon_gds"
   ]
  },
  {
   "cell_type": "code",
   "execution_count": 10,
   "id": "11ec0bc1",
   "metadata": {},
   "outputs": [],
   "source": [
    "danamon_gds = danamon_gds.drop(['settlement_time','charge_vendor_code','merchant_id','id','Transaction SN'],axis=1)"
   ]
  },
  {
   "cell_type": "code",
   "execution_count": 11,
   "id": "c4e5a4b2",
   "metadata": {},
   "outputs": [
    {
     "data": {
      "text/html": [
       "<div>\n",
       "<style scoped>\n",
       "    .dataframe tbody tr th:only-of-type {\n",
       "        vertical-align: middle;\n",
       "    }\n",
       "\n",
       "    .dataframe tbody tr th {\n",
       "        vertical-align: top;\n",
       "    }\n",
       "\n",
       "    .dataframe thead th {\n",
       "        text-align: right;\n",
       "    }\n",
       "</style>\n",
       "<table border=\"1\" class=\"dataframe\">\n",
       "  <thead>\n",
       "    <tr style=\"text-align: right;\">\n",
       "      <th></th>\n",
       "      <th>created_datetime</th>\n",
       "      <th>last_updated_datetime</th>\n",
       "      <th>settlement_amount</th>\n",
       "      <th>username</th>\n",
       "      <th>product_type</th>\n",
       "      <th>charge_status</th>\n",
       "      <th>admin_fee</th>\n",
       "      <th>base_admin_fee</th>\n",
       "      <th>admin_fee_invoice</th>\n",
       "      <th>deduction_cost</th>\n",
       "      <th>deduction_cost_gross</th>\n",
       "      <th>transaction_amount</th>\n",
       "      <th>qr_id</th>\n",
       "      <th>Transaction Channel Type</th>\n",
       "    </tr>\n",
       "  </thead>\n",
       "  <tbody>\n",
       "  </tbody>\n",
       "</table>\n",
       "</div>"
      ],
      "text/plain": [
       "Empty DataFrame\n",
       "Columns: [created_datetime, last_updated_datetime, settlement_amount, username, product_type, charge_status, admin_fee, base_admin_fee, admin_fee_invoice, deduction_cost, deduction_cost_gross, transaction_amount, qr_id, Transaction Channel Type]\n",
       "Index: []"
      ]
     },
     "execution_count": 11,
     "metadata": {},
     "output_type": "execute_result"
    }
   ],
   "source": [
    "danamon_gds[danamon_gds.duplicated()]"
   ]
  },
  {
   "cell_type": "code",
   "execution_count": 12,
   "id": "7ff9a0d1",
   "metadata": {},
   "outputs": [],
   "source": [
    "gds_duplicated = danamon_gds[danamon_gds.duplicated()]"
   ]
  },
  {
   "cell_type": "code",
   "execution_count": 13,
   "id": "43ee6dc7",
   "metadata": {},
   "outputs": [],
   "source": [
    "danamon_gds = danamon_gds.drop_duplicates()"
   ]
  },
  {
   "cell_type": "code",
   "execution_count": 14,
   "id": "763a0dc3",
   "metadata": {},
   "outputs": [
    {
     "data": {
      "text/html": [
       "<div>\n",
       "<style scoped>\n",
       "    .dataframe tbody tr th:only-of-type {\n",
       "        vertical-align: middle;\n",
       "    }\n",
       "\n",
       "    .dataframe tbody tr th {\n",
       "        vertical-align: top;\n",
       "    }\n",
       "\n",
       "    .dataframe thead th {\n",
       "        text-align: right;\n",
       "    }\n",
       "</style>\n",
       "<table border=\"1\" class=\"dataframe\">\n",
       "  <thead>\n",
       "    <tr style=\"text-align: right;\">\n",
       "      <th></th>\n",
       "      <th>Date</th>\n",
       "      <th>Time</th>\n",
       "      <th>Note (Bill ID)</th>\n",
       "      <th>No Ref</th>\n",
       "      <th>Transaction Amount</th>\n",
       "      <th>Status</th>\n",
       "      <th>Settlement Amount</th>\n",
       "      <th>MDR</th>\n",
       "      <th>On us / As Acquiring</th>\n",
       "      <th>Issuer Name</th>\n",
       "    </tr>\n",
       "  </thead>\n",
       "  <tbody>\n",
       "  </tbody>\n",
       "</table>\n",
       "</div>"
      ],
      "text/plain": [
       "Empty DataFrame\n",
       "Columns: [Date, Time, Note (Bill ID), No Ref, Transaction Amount, Status, Settlement Amount, MDR, On us / As Acquiring, Issuer Name]\n",
       "Index: []"
      ]
     },
     "execution_count": 14,
     "metadata": {},
     "output_type": "execute_result"
    }
   ],
   "source": [
    "danamon_report[danamon_report.duplicated()]"
   ]
  },
  {
   "cell_type": "code",
   "execution_count": 15,
   "id": "18203daf",
   "metadata": {},
   "outputs": [],
   "source": [
    "dash_duplicated = danamon_report[danamon_report.duplicated()]"
   ]
  },
  {
   "cell_type": "code",
   "execution_count": 16,
   "id": "0a195a22",
   "metadata": {},
   "outputs": [],
   "source": [
    "danamon_report = danamon_report.drop_duplicates()"
   ]
  },
  {
   "cell_type": "code",
   "execution_count": 17,
   "id": "1e707fb4",
   "metadata": {},
   "outputs": [
    {
     "name": "stdout",
     "output_type": "stream",
     "text": [
      "371821\n",
      "371822\n"
     ]
    }
   ],
   "source": [
    "print(len(danamon_report))\n",
    "print(len(danamon_gds))"
   ]
  },
  {
   "cell_type": "code",
   "execution_count": 18,
   "id": "5ff83ed2",
   "metadata": {},
   "outputs": [],
   "source": [
    "danamon_report['Note (Bill ID)'] = danamon_report['Note (Bill ID)'].astype('str').apply(lambda x: x.zfill(16))"
   ]
  },
  {
   "cell_type": "code",
   "execution_count": 19,
   "id": "693147de",
   "metadata": {},
   "outputs": [],
   "source": [
    "danamon_gds['qr_id'] = danamon_gds['qr_id'].astype('str').apply(lambda x: x.zfill(16))"
   ]
  },
  {
   "cell_type": "code",
   "execution_count": 20,
   "id": "1c608680",
   "metadata": {},
   "outputs": [],
   "source": [
    "index_gds = danamon_gds[danamon_gds['qr_id'].str.contains('[A-Za-z]')].index"
   ]
  },
  {
   "cell_type": "code",
   "execution_count": 21,
   "id": "cd96bd30",
   "metadata": {},
   "outputs": [],
   "source": [
    "danamon_gds.loc[index_gds, 'qr_id'] = danamon_gds.loc[index_gds, 'qr_id'].str.replace('0000', \"\")"
   ]
  },
  {
   "cell_type": "code",
   "execution_count": 22,
   "id": "05ad4fc9",
   "metadata": {},
   "outputs": [],
   "source": [
    "cekk = danamon_gds[danamon_gds['qr_id'].str.contains('0000')].index"
   ]
  },
  {
   "cell_type": "code",
   "execution_count": 23,
   "id": "57311e3d",
   "metadata": {},
   "outputs": [],
   "source": [
    "danamon_gds.loc[cekk, 'qr_id'] = danamon_gds.loc[cekk, 'qr_id'].str.replace('0000', \"\")"
   ]
  },
  {
   "cell_type": "code",
   "execution_count": 24,
   "id": "929b8651",
   "metadata": {},
   "outputs": [],
   "source": [
    "index_report = danamon_report[danamon_report['Note (Bill ID)'].str.contains('[A-Za-z]')].index"
   ]
  },
  {
   "cell_type": "code",
   "execution_count": 25,
   "id": "67079a8f",
   "metadata": {},
   "outputs": [],
   "source": [
    "danamon_report.loc[index_report, 'Note (Bill ID)'] = danamon_report.loc[index_report, 'Note (Bill ID)'].str.replace('0000', \"\")"
   ]
  },
  {
   "cell_type": "code",
   "execution_count": 26,
   "id": "e3d94b69",
   "metadata": {},
   "outputs": [],
   "source": [
    "cekk_report = danamon_report[danamon_report['Note (Bill ID)'].str.contains('0000')].index"
   ]
  },
  {
   "cell_type": "code",
   "execution_count": 27,
   "id": "bda10d46",
   "metadata": {},
   "outputs": [],
   "source": [
    "danamon_report.loc[cekk_report, 'Note (Bill ID)'] = danamon_report.loc[cekk_report, 'Note (Bill ID)'].str.replace('0000', \"\")"
   ]
  },
  {
   "cell_type": "code",
   "execution_count": 28,
   "id": "ea1707d3",
   "metadata": {},
   "outputs": [],
   "source": [
    "#danamon_report['Transaction Amount'] = danamon_report['Transaction Amount'].str.replace(',','')"
   ]
  },
  {
   "cell_type": "code",
   "execution_count": 29,
   "id": "c3e22f4c",
   "metadata": {},
   "outputs": [],
   "source": [
    "danamon_report['Transaction Amount'] = pd.to_numeric(danamon_report['Transaction Amount'])"
   ]
  },
  {
   "cell_type": "code",
   "execution_count": 30,
   "id": "1106104e",
   "metadata": {},
   "outputs": [],
   "source": [
    "#multiple = danamon_gds[danamon_gds['qr_id'].duplicated(keep=False)]"
   ]
  },
  {
   "cell_type": "code",
   "execution_count": 31,
   "id": "edfbdfc7",
   "metadata": {},
   "outputs": [],
   "source": [
    "#multiple"
   ]
  },
  {
   "cell_type": "code",
   "execution_count": 32,
   "id": "f650f63f",
   "metadata": {},
   "outputs": [
    {
     "name": "stderr",
     "output_type": "stream",
     "text": [
      "/var/folders/sg/v7nz4brs3sq_pn793b_nw89c0000gp/T/ipykernel_30643/374004967.py:1: UserWarning: Could not infer format, so each element will be parsed individually, falling back to `dateutil`. To ensure parsing is consistent and as-expected, please specify a format.\n",
      "  danamon_gds['last_updated_datetime'] = pd.to_datetime(danamon_gds['last_updated_datetime']).dt.date\n"
     ]
    }
   ],
   "source": [
    "danamon_gds['last_updated_datetime'] = pd.to_datetime(danamon_gds['last_updated_datetime']).dt.date"
   ]
  },
  {
   "cell_type": "code",
   "execution_count": 33,
   "id": "27f2b567",
   "metadata": {},
   "outputs": [],
   "source": [
    "danamon_report = danamon_report.add_suffix('_DASH')"
   ]
  },
  {
   "cell_type": "code",
   "execution_count": 34,
   "id": "281d84ca",
   "metadata": {},
   "outputs": [],
   "source": [
    "danamon_gds = danamon_gds.add_suffix('_GDS')"
   ]
  },
  {
   "cell_type": "code",
   "execution_count": 35,
   "id": "6e0c2efa",
   "metadata": {},
   "outputs": [],
   "source": [
    "data_compare = pd.merge(danamon_report,danamon_gds, left_on='Note (Bill ID)_DASH', right_on='qr_id_GDS', how='outer', indicator=True)"
   ]
  },
  {
   "cell_type": "code",
   "execution_count": 36,
   "id": "2057a518",
   "metadata": {},
   "outputs": [
    {
     "data": {
      "text/html": [
       "<div>\n",
       "<style scoped>\n",
       "    .dataframe tbody tr th:only-of-type {\n",
       "        vertical-align: middle;\n",
       "    }\n",
       "\n",
       "    .dataframe tbody tr th {\n",
       "        vertical-align: top;\n",
       "    }\n",
       "\n",
       "    .dataframe thead th {\n",
       "        text-align: right;\n",
       "    }\n",
       "</style>\n",
       "<table border=\"1\" class=\"dataframe\">\n",
       "  <thead>\n",
       "    <tr style=\"text-align: right;\">\n",
       "      <th></th>\n",
       "      <th>Date_DASH</th>\n",
       "      <th>Time_DASH</th>\n",
       "      <th>Note (Bill ID)_DASH</th>\n",
       "      <th>No Ref_DASH</th>\n",
       "      <th>Transaction Amount_DASH</th>\n",
       "      <th>Status_DASH</th>\n",
       "      <th>Settlement Amount_DASH</th>\n",
       "      <th>MDR_DASH</th>\n",
       "      <th>On us / As Acquiring_DASH</th>\n",
       "      <th>Issuer Name_DASH</th>\n",
       "      <th>...</th>\n",
       "      <th>charge_status_GDS</th>\n",
       "      <th>admin_fee_GDS</th>\n",
       "      <th>base_admin_fee_GDS</th>\n",
       "      <th>admin_fee_invoice_GDS</th>\n",
       "      <th>deduction_cost_GDS</th>\n",
       "      <th>deduction_cost_gross_GDS</th>\n",
       "      <th>transaction_amount_GDS</th>\n",
       "      <th>qr_id_GDS</th>\n",
       "      <th>Transaction Channel Type_GDS</th>\n",
       "      <th>_merge</th>\n",
       "    </tr>\n",
       "  </thead>\n",
       "  <tbody>\n",
       "    <tr>\n",
       "      <th>0</th>\n",
       "      <td>3/7/24</td>\n",
       "      <td>11:59:57 PM</td>\n",
       "      <td>24032ES66C51</td>\n",
       "      <td>MW2403077410261</td>\n",
       "      <td>30234</td>\n",
       "      <td>SUCCESS - PENDING SETTLEMENT</td>\n",
       "      <td>30022.36</td>\n",
       "      <td>211.64</td>\n",
       "      <td>As Acquiring</td>\n",
       "      <td>GOPAY</td>\n",
       "      <td>...</td>\n",
       "      <td>SUCCESS</td>\n",
       "      <td>212</td>\n",
       "      <td>191</td>\n",
       "      <td>0</td>\n",
       "      <td>128.49450</td>\n",
       "      <td>211.638</td>\n",
       "      <td>30234</td>\n",
       "      <td>24032ES66C51</td>\n",
       "      <td>OFF_US</td>\n",
       "      <td>both</td>\n",
       "    </tr>\n",
       "    <tr>\n",
       "      <th>1</th>\n",
       "      <td>3/7/24</td>\n",
       "      <td>11:59:57 PM</td>\n",
       "      <td>2403VG7IK3HT</td>\n",
       "      <td>MW2403077396799</td>\n",
       "      <td>17133</td>\n",
       "      <td>SUCCESS - PENDING SETTLEMENT</td>\n",
       "      <td>17013.07</td>\n",
       "      <td>119.93</td>\n",
       "      <td>As Acquiring</td>\n",
       "      <td>BANK BCA</td>\n",
       "      <td>...</td>\n",
       "      <td>SUCCESS</td>\n",
       "      <td>120</td>\n",
       "      <td>108</td>\n",
       "      <td>0</td>\n",
       "      <td>72.81525</td>\n",
       "      <td>119.931</td>\n",
       "      <td>17133</td>\n",
       "      <td>2403VG7IK3HT</td>\n",
       "      <td>OFF_US</td>\n",
       "      <td>both</td>\n",
       "    </tr>\n",
       "    <tr>\n",
       "      <th>2</th>\n",
       "      <td>3/7/24</td>\n",
       "      <td>11:59:57 PM</td>\n",
       "      <td>2403V7Y7RZBB</td>\n",
       "      <td>MW2403077396800</td>\n",
       "      <td>101181</td>\n",
       "      <td>SUCCESS - PENDING SETTLEMENT</td>\n",
       "      <td>100472.73</td>\n",
       "      <td>708.27</td>\n",
       "      <td>As Acquiring</td>\n",
       "      <td>BANK BRI</td>\n",
       "      <td>...</td>\n",
       "      <td>SUCCESS</td>\n",
       "      <td>787</td>\n",
       "      <td>709</td>\n",
       "      <td>0</td>\n",
       "      <td>430.01925</td>\n",
       "      <td>708.267</td>\n",
       "      <td>101181</td>\n",
       "      <td>2403V7Y7RZBB</td>\n",
       "      <td>OFF_US</td>\n",
       "      <td>both</td>\n",
       "    </tr>\n",
       "    <tr>\n",
       "      <th>3</th>\n",
       "      <td>3/7/24</td>\n",
       "      <td>11:59:55 PM</td>\n",
       "      <td>2403XPC9DCB4</td>\n",
       "      <td>MW2403077410236</td>\n",
       "      <td>223978</td>\n",
       "      <td>SUCCESS - PENDING SETTLEMENT</td>\n",
       "      <td>222410.15</td>\n",
       "      <td>1567.85</td>\n",
       "      <td>As Acquiring</td>\n",
       "      <td>BANK BNI</td>\n",
       "      <td>...</td>\n",
       "      <td>SUCCESS</td>\n",
       "      <td>1740</td>\n",
       "      <td>1568</td>\n",
       "      <td>0</td>\n",
       "      <td>951.90650</td>\n",
       "      <td>1567.846</td>\n",
       "      <td>223978</td>\n",
       "      <td>2403XPC9DCB4</td>\n",
       "      <td>OFF_US</td>\n",
       "      <td>both</td>\n",
       "    </tr>\n",
       "    <tr>\n",
       "      <th>4</th>\n",
       "      <td>3/7/24</td>\n",
       "      <td>11:59:55 PM</td>\n",
       "      <td>2403BWIPOMS9</td>\n",
       "      <td>MW2403077410257</td>\n",
       "      <td>100780</td>\n",
       "      <td>SUCCESS - PENDING SETTLEMENT</td>\n",
       "      <td>100074.54</td>\n",
       "      <td>705.46</td>\n",
       "      <td>As Acquiring</td>\n",
       "      <td>BANK BCA</td>\n",
       "      <td>...</td>\n",
       "      <td>SUCCESS</td>\n",
       "      <td>706</td>\n",
       "      <td>636</td>\n",
       "      <td>0</td>\n",
       "      <td>428.31500</td>\n",
       "      <td>705.460</td>\n",
       "      <td>100780</td>\n",
       "      <td>2403BWIPOMS9</td>\n",
       "      <td>OFF_US</td>\n",
       "      <td>both</td>\n",
       "    </tr>\n",
       "    <tr>\n",
       "      <th>...</th>\n",
       "      <td>...</td>\n",
       "      <td>...</td>\n",
       "      <td>...</td>\n",
       "      <td>...</td>\n",
       "      <td>...</td>\n",
       "      <td>...</td>\n",
       "      <td>...</td>\n",
       "      <td>...</td>\n",
       "      <td>...</td>\n",
       "      <td>...</td>\n",
       "      <td>...</td>\n",
       "      <td>...</td>\n",
       "      <td>...</td>\n",
       "      <td>...</td>\n",
       "      <td>...</td>\n",
       "      <td>...</td>\n",
       "      <td>...</td>\n",
       "      <td>...</td>\n",
       "      <td>...</td>\n",
       "      <td>...</td>\n",
       "      <td>...</td>\n",
       "    </tr>\n",
       "    <tr>\n",
       "      <th>371817</th>\n",
       "      <td>3/7/24</td>\n",
       "      <td>12:00:03 AM</td>\n",
       "      <td>2403D47PYBE2</td>\n",
       "      <td>MW2403066974148</td>\n",
       "      <td>10321</td>\n",
       "      <td>SUCCESS - PENDING SETTLEMENT</td>\n",
       "      <td>10248.75</td>\n",
       "      <td>72.25</td>\n",
       "      <td>As Acquiring</td>\n",
       "      <td>BANK BCA</td>\n",
       "      <td>...</td>\n",
       "      <td>SUCCESS</td>\n",
       "      <td>111</td>\n",
       "      <td>100</td>\n",
       "      <td>0</td>\n",
       "      <td>43.86425</td>\n",
       "      <td>72.247</td>\n",
       "      <td>10321</td>\n",
       "      <td>2403D47PYBE2</td>\n",
       "      <td>OFF_US</td>\n",
       "      <td>both</td>\n",
       "    </tr>\n",
       "    <tr>\n",
       "      <th>371818</th>\n",
       "      <td>3/7/24</td>\n",
       "      <td>12:00:03 AM</td>\n",
       "      <td>2403L0ZVJLKR</td>\n",
       "      <td>MW2403066974147</td>\n",
       "      <td>62870</td>\n",
       "      <td>SUCCESS - PENDING SETTLEMENT</td>\n",
       "      <td>62429.91</td>\n",
       "      <td>440.09</td>\n",
       "      <td>As Acquiring</td>\n",
       "      <td>DANA</td>\n",
       "      <td>...</td>\n",
       "      <td>SUCCESS</td>\n",
       "      <td>490</td>\n",
       "      <td>441</td>\n",
       "      <td>0</td>\n",
       "      <td>267.19750</td>\n",
       "      <td>440.090</td>\n",
       "      <td>62870</td>\n",
       "      <td>2403L0ZVJLKR</td>\n",
       "      <td>OFF_US</td>\n",
       "      <td>both</td>\n",
       "    </tr>\n",
       "    <tr>\n",
       "      <th>371819</th>\n",
       "      <td>3/7/24</td>\n",
       "      <td>12:00:03 AM</td>\n",
       "      <td>2403TXAH05HL</td>\n",
       "      <td>MW2403066974144</td>\n",
       "      <td>49882</td>\n",
       "      <td>SUCCESS - PENDING SETTLEMENT</td>\n",
       "      <td>49532.82</td>\n",
       "      <td>349.18</td>\n",
       "      <td>As Acquiring</td>\n",
       "      <td>DANA</td>\n",
       "      <td>...</td>\n",
       "      <td>SUCCESS</td>\n",
       "      <td>389</td>\n",
       "      <td>350</td>\n",
       "      <td>0</td>\n",
       "      <td>211.99850</td>\n",
       "      <td>349.174</td>\n",
       "      <td>49882</td>\n",
       "      <td>2403TXAH05HL</td>\n",
       "      <td>OFF_US</td>\n",
       "      <td>both</td>\n",
       "    </tr>\n",
       "    <tr>\n",
       "      <th>371820</th>\n",
       "      <td>3/7/24</td>\n",
       "      <td>12:00:02 AM</td>\n",
       "      <td>2403DZ8VQWYK</td>\n",
       "      <td>MW2403066974140</td>\n",
       "      <td>24787</td>\n",
       "      <td>SUCCESS - PENDING SETTLEMENT</td>\n",
       "      <td>24613.49</td>\n",
       "      <td>173.51</td>\n",
       "      <td>As Acquiring</td>\n",
       "      <td>DANA</td>\n",
       "      <td>...</td>\n",
       "      <td>SUCCESS</td>\n",
       "      <td>193</td>\n",
       "      <td>174</td>\n",
       "      <td>0</td>\n",
       "      <td>105.34475</td>\n",
       "      <td>173.509</td>\n",
       "      <td>24787</td>\n",
       "      <td>2403DZ8VQWYK</td>\n",
       "      <td>OFF_US</td>\n",
       "      <td>both</td>\n",
       "    </tr>\n",
       "    <tr>\n",
       "      <th>371821</th>\n",
       "      <td>3/7/24</td>\n",
       "      <td>12:00:02 AM</td>\n",
       "      <td>2403VVQ1KSEY</td>\n",
       "      <td>MW2403066974139</td>\n",
       "      <td>60000</td>\n",
       "      <td>SUCCESS - PENDING SETTLEMENT</td>\n",
       "      <td>59580.00</td>\n",
       "      <td>420.00</td>\n",
       "      <td>As Acquiring</td>\n",
       "      <td>DANA</td>\n",
       "      <td>...</td>\n",
       "      <td>SUCCESS</td>\n",
       "      <td>400</td>\n",
       "      <td>360</td>\n",
       "      <td>0</td>\n",
       "      <td>255.00000</td>\n",
       "      <td>420.000</td>\n",
       "      <td>60000</td>\n",
       "      <td>2403VVQ1KSEY</td>\n",
       "      <td>OFF_US</td>\n",
       "      <td>both</td>\n",
       "    </tr>\n",
       "  </tbody>\n",
       "</table>\n",
       "<p>371822 rows × 25 columns</p>\n",
       "</div>"
      ],
      "text/plain": [
       "       Date_DASH    Time_DASH Note (Bill ID)_DASH      No Ref_DASH  \\\n",
       "0         3/7/24  11:59:57 PM        24032ES66C51  MW2403077410261   \n",
       "1         3/7/24  11:59:57 PM        2403VG7IK3HT  MW2403077396799   \n",
       "2         3/7/24  11:59:57 PM        2403V7Y7RZBB  MW2403077396800   \n",
       "3         3/7/24  11:59:55 PM        2403XPC9DCB4  MW2403077410236   \n",
       "4         3/7/24  11:59:55 PM        2403BWIPOMS9  MW2403077410257   \n",
       "...          ...          ...                 ...              ...   \n",
       "371817    3/7/24  12:00:03 AM        2403D47PYBE2  MW2403066974148   \n",
       "371818    3/7/24  12:00:03 AM        2403L0ZVJLKR  MW2403066974147   \n",
       "371819    3/7/24  12:00:03 AM        2403TXAH05HL  MW2403066974144   \n",
       "371820    3/7/24  12:00:02 AM        2403DZ8VQWYK  MW2403066974140   \n",
       "371821    3/7/24  12:00:02 AM        2403VVQ1KSEY  MW2403066974139   \n",
       "\n",
       "        Transaction Amount_DASH                   Status_DASH  \\\n",
       "0                         30234  SUCCESS - PENDING SETTLEMENT   \n",
       "1                         17133  SUCCESS - PENDING SETTLEMENT   \n",
       "2                        101181  SUCCESS - PENDING SETTLEMENT   \n",
       "3                        223978  SUCCESS - PENDING SETTLEMENT   \n",
       "4                        100780  SUCCESS - PENDING SETTLEMENT   \n",
       "...                         ...                           ...   \n",
       "371817                    10321  SUCCESS - PENDING SETTLEMENT   \n",
       "371818                    62870  SUCCESS - PENDING SETTLEMENT   \n",
       "371819                    49882  SUCCESS - PENDING SETTLEMENT   \n",
       "371820                    24787  SUCCESS - PENDING SETTLEMENT   \n",
       "371821                    60000  SUCCESS - PENDING SETTLEMENT   \n",
       "\n",
       "        Settlement Amount_DASH  MDR_DASH On us / As Acquiring_DASH  \\\n",
       "0                     30022.36    211.64              As Acquiring   \n",
       "1                     17013.07    119.93              As Acquiring   \n",
       "2                    100472.73    708.27              As Acquiring   \n",
       "3                    222410.15   1567.85              As Acquiring   \n",
       "4                    100074.54    705.46              As Acquiring   \n",
       "...                        ...       ...                       ...   \n",
       "371817                10248.75     72.25              As Acquiring   \n",
       "371818                62429.91    440.09              As Acquiring   \n",
       "371819                49532.82    349.18              As Acquiring   \n",
       "371820                24613.49    173.51              As Acquiring   \n",
       "371821                59580.00    420.00              As Acquiring   \n",
       "\n",
       "       Issuer Name_DASH  ... charge_status_GDS admin_fee_GDS  \\\n",
       "0                 GOPAY  ...           SUCCESS           212   \n",
       "1              BANK BCA  ...           SUCCESS           120   \n",
       "2              BANK BRI  ...           SUCCESS           787   \n",
       "3              BANK BNI  ...           SUCCESS          1740   \n",
       "4              BANK BCA  ...           SUCCESS           706   \n",
       "...                 ...  ...               ...           ...   \n",
       "371817         BANK BCA  ...           SUCCESS           111   \n",
       "371818             DANA  ...           SUCCESS           490   \n",
       "371819             DANA  ...           SUCCESS           389   \n",
       "371820             DANA  ...           SUCCESS           193   \n",
       "371821             DANA  ...           SUCCESS           400   \n",
       "\n",
       "        base_admin_fee_GDS admin_fee_invoice_GDS deduction_cost_GDS  \\\n",
       "0                      191                     0          128.49450   \n",
       "1                      108                     0           72.81525   \n",
       "2                      709                     0          430.01925   \n",
       "3                     1568                     0          951.90650   \n",
       "4                      636                     0          428.31500   \n",
       "...                    ...                   ...                ...   \n",
       "371817                 100                     0           43.86425   \n",
       "371818                 441                     0          267.19750   \n",
       "371819                 350                     0          211.99850   \n",
       "371820                 174                     0          105.34475   \n",
       "371821                 360                     0          255.00000   \n",
       "\n",
       "       deduction_cost_gross_GDS  transaction_amount_GDS     qr_id_GDS  \\\n",
       "0                       211.638                   30234  24032ES66C51   \n",
       "1                       119.931                   17133  2403VG7IK3HT   \n",
       "2                       708.267                  101181  2403V7Y7RZBB   \n",
       "3                      1567.846                  223978  2403XPC9DCB4   \n",
       "4                       705.460                  100780  2403BWIPOMS9   \n",
       "...                         ...                     ...           ...   \n",
       "371817                   72.247                   10321  2403D47PYBE2   \n",
       "371818                  440.090                   62870  2403L0ZVJLKR   \n",
       "371819                  349.174                   49882  2403TXAH05HL   \n",
       "371820                  173.509                   24787  2403DZ8VQWYK   \n",
       "371821                  420.000                   60000  2403VVQ1KSEY   \n",
       "\n",
       "        Transaction Channel Type_GDS  _merge  \n",
       "0                             OFF_US    both  \n",
       "1                             OFF_US    both  \n",
       "2                             OFF_US    both  \n",
       "3                             OFF_US    both  \n",
       "4                             OFF_US    both  \n",
       "...                              ...     ...  \n",
       "371817                        OFF_US    both  \n",
       "371818                        OFF_US    both  \n",
       "371819                        OFF_US    both  \n",
       "371820                        OFF_US    both  \n",
       "371821                        OFF_US    both  \n",
       "\n",
       "[371822 rows x 25 columns]"
      ]
     },
     "execution_count": 36,
     "metadata": {},
     "output_type": "execute_result"
    }
   ],
   "source": [
    "data_compare"
   ]
  },
  {
   "cell_type": "code",
   "execution_count": 37,
   "id": "01dab278",
   "metadata": {},
   "outputs": [],
   "source": [
    "#if (data_compare['Note (Bill ID)'] == data_compare['qr_id']) & (data_compare['Transaction Amount'] == data_compare['transaction_amount'])\n",
    " #   data_compare['_merge'] == \n",
    "\n",
    "#df['_merge'] = ['Recon' if data_compare['Note (Bill ID)'] == data_compare['qr_id']) & (data_compare['Transaction Amount'] == data_compare['transaction_amount'] else 'Unrecon' for score in df['Score']]"
   ]
  },
  {
   "cell_type": "code",
   "execution_count": 38,
   "id": "304b7a93",
   "metadata": {},
   "outputs": [],
   "source": [
    "#data_compare['test'] = ((data_compare['Note (Bill ID)'] == data_compare['qr_id']) & (data_compare['Transaction Amount'] == data_compare['transaction_amount'])):\n",
    "\n",
    "#data_compare['Flag'] = data_compare.apply(flag_df, axis = 1)\n",
    "#flag_df(data_compare).astype(\"category\")"
   ]
  },
  {
   "cell_type": "code",
   "execution_count": 39,
   "id": "69af76c0",
   "metadata": {},
   "outputs": [],
   "source": [
    "data_compare['Match?'] = np.where((data_compare['Note (Bill ID)_DASH'] == data_compare['qr_id_GDS']) & (data_compare['Transaction Amount_DASH'] == data_compare['transaction_amount_GDS']) , 'Recon', 'Unrecon')"
   ]
  },
  {
   "cell_type": "code",
   "execution_count": 40,
   "id": "17cc00e3",
   "metadata": {},
   "outputs": [
    {
     "data": {
      "text/html": [
       "<div>\n",
       "<style scoped>\n",
       "    .dataframe tbody tr th:only-of-type {\n",
       "        vertical-align: middle;\n",
       "    }\n",
       "\n",
       "    .dataframe tbody tr th {\n",
       "        vertical-align: top;\n",
       "    }\n",
       "\n",
       "    .dataframe thead th {\n",
       "        text-align: right;\n",
       "    }\n",
       "</style>\n",
       "<table border=\"1\" class=\"dataframe\">\n",
       "  <thead>\n",
       "    <tr style=\"text-align: right;\">\n",
       "      <th></th>\n",
       "      <th>Date_DASH</th>\n",
       "      <th>Time_DASH</th>\n",
       "      <th>Note (Bill ID)_DASH</th>\n",
       "      <th>No Ref_DASH</th>\n",
       "      <th>Transaction Amount_DASH</th>\n",
       "      <th>Status_DASH</th>\n",
       "      <th>Settlement Amount_DASH</th>\n",
       "      <th>MDR_DASH</th>\n",
       "      <th>On us / As Acquiring_DASH</th>\n",
       "      <th>Issuer Name_DASH</th>\n",
       "      <th>...</th>\n",
       "      <th>admin_fee_GDS</th>\n",
       "      <th>base_admin_fee_GDS</th>\n",
       "      <th>admin_fee_invoice_GDS</th>\n",
       "      <th>deduction_cost_GDS</th>\n",
       "      <th>deduction_cost_gross_GDS</th>\n",
       "      <th>transaction_amount_GDS</th>\n",
       "      <th>qr_id_GDS</th>\n",
       "      <th>Transaction Channel Type_GDS</th>\n",
       "      <th>_merge</th>\n",
       "      <th>Match?</th>\n",
       "    </tr>\n",
       "  </thead>\n",
       "  <tbody>\n",
       "    <tr>\n",
       "      <th>174037</th>\n",
       "      <td>3/7/24</td>\n",
       "      <td>3:56:44 PM</td>\n",
       "      <td>24031K01TZS4</td>\n",
       "      <td>MW2403077223058</td>\n",
       "      <td>14000</td>\n",
       "      <td>SUCCESS</td>\n",
       "      <td>13902.0</td>\n",
       "      <td>98.0</td>\n",
       "      <td>As Acquiring</td>\n",
       "      <td>BANK BCA</td>\n",
       "      <td>...</td>\n",
       "      <td>353</td>\n",
       "      <td>318</td>\n",
       "      <td>0</td>\n",
       "      <td>0.0</td>\n",
       "      <td>0.0</td>\n",
       "      <td>50390</td>\n",
       "      <td>24031K01TZS4</td>\n",
       "      <td>OFF_US</td>\n",
       "      <td>both</td>\n",
       "      <td>Unrecon</td>\n",
       "    </tr>\n",
       "  </tbody>\n",
       "</table>\n",
       "<p>1 rows × 26 columns</p>\n",
       "</div>"
      ],
      "text/plain": [
       "       Date_DASH   Time_DASH Note (Bill ID)_DASH      No Ref_DASH  \\\n",
       "174037    3/7/24  3:56:44 PM        24031K01TZS4  MW2403077223058   \n",
       "\n",
       "        Transaction Amount_DASH Status_DASH  Settlement Amount_DASH  MDR_DASH  \\\n",
       "174037                    14000     SUCCESS                 13902.0      98.0   \n",
       "\n",
       "       On us / As Acquiring_DASH Issuer Name_DASH  ... admin_fee_GDS  \\\n",
       "174037              As Acquiring         BANK BCA  ...           353   \n",
       "\n",
       "       base_admin_fee_GDS  admin_fee_invoice_GDS deduction_cost_GDS  \\\n",
       "174037                318                      0                0.0   \n",
       "\n",
       "       deduction_cost_gross_GDS transaction_amount_GDS     qr_id_GDS  \\\n",
       "174037                      0.0                  50390  24031K01TZS4   \n",
       "\n",
       "        Transaction Channel Type_GDS  _merge   Match?  \n",
       "174037                        OFF_US    both  Unrecon  \n",
       "\n",
       "[1 rows x 26 columns]"
      ]
     },
     "execution_count": 40,
     "metadata": {},
     "output_type": "execute_result"
    }
   ],
   "source": [
    "data_compare[data_compare['Match?'] == 'Unrecon']"
   ]
  },
  {
   "cell_type": "code",
   "execution_count": 41,
   "id": "6cfa14fb",
   "metadata": {},
   "outputs": [
    {
     "name": "stdout",
     "output_type": "stream",
     "text": [
      "Index(['left_only', 'right_only', 'both'], dtype='object')\n"
     ]
    }
   ],
   "source": [
    "print(data_compare['_merge'].cat.categories)"
   ]
  },
  {
   "cell_type": "code",
   "execution_count": 42,
   "id": "78f4e218",
   "metadata": {},
   "outputs": [],
   "source": [
    "data_compare['_merge'] = data_compare['_merge'].cat.rename_categories({'left_only': 'Dash Only', 'right_only': 'GDS Only'})"
   ]
  },
  {
   "cell_type": "code",
   "execution_count": 43,
   "id": "7c75214a",
   "metadata": {},
   "outputs": [],
   "source": [
    "unrecon = data_compare[data_compare['Match?'] == 'Unrecon']"
   ]
  },
  {
   "cell_type": "code",
   "execution_count": 44,
   "id": "6a93405c",
   "metadata": {},
   "outputs": [],
   "source": [
    "indexunrecon = data_compare[data_compare['Match?'] == 'Unrecon'].index"
   ]
  },
  {
   "cell_type": "code",
   "execution_count": 45,
   "id": "570674b2",
   "metadata": {},
   "outputs": [],
   "source": [
    "data_compare = data_compare.drop(indexunrecon)"
   ]
  },
  {
   "cell_type": "code",
   "execution_count": 46,
   "id": "aca9ff94",
   "metadata": {},
   "outputs": [],
   "source": [
    "with pd.ExcelWriter(\"Qris Danamon 7 Mar 24 New Template.xlsx\") as writer:\n",
    "    danamon_gds_raw.to_excel(writer, sheet_name=\"GDS Raw\", index=False)\n",
    "    danamon_report_raw.to_excel(writer, sheet_name=\"Dash Report Raw\", index=False)\n",
    "    data_compare.to_excel(writer, sheet_name=\"Line Per Line Recon\", index=False)\n",
    "    unrecon.to_excel(writer, sheet_name=\"Unrecon\", index=False)\n",
    "    dash_duplicated.to_excel(writer, sheet_name=\"Multiple Note Bill ID Dashboard\", index=False)\n",
    "    gds_duplicated.to_excel(writer, sheet_name=\"Multiple qr_id GDS\", index=False)"
   ]
  },
  {
   "cell_type": "code",
   "execution_count": 47,
   "id": "aced23bd",
   "metadata": {},
   "outputs": [
    {
     "name": "stdout",
     "output_type": "stream",
     "text": [
      "done\n"
     ]
    }
   ],
   "source": [
    "print('done')"
   ]
  },
  {
   "cell_type": "code",
   "execution_count": 48,
   "id": "1f138d1e",
   "metadata": {},
   "outputs": [
    {
     "data": {
      "text/plain": [
       "Date                           object\n",
       "Time                           object\n",
       "Group Name                     object\n",
       "Merchant ID                     int64\n",
       "NMID                           object\n",
       "MPAN                          float64\n",
       "Merchant Name                  object\n",
       "QR ID                           int64\n",
       "Note (Bill ID)                 object\n",
       "QR Type                        object\n",
       "No Ref                         object\n",
       "RRN                            object\n",
       "Terminal ID                    object\n",
       "Transaction Amount              int64\n",
       "Status                         object\n",
       "Settlement Amount             float64\n",
       "MDR                           float64\n",
       "On us / As Acquiring           object\n",
       "Customer PAN                  float64\n",
       "Issuer Code                     int64\n",
       "Issuer Name                    object\n",
       "Invoice No.                   float64\n",
       "Merchant Partner Acc. No      float64\n",
       "Merchant Partner Acc. Name    float64\n",
       "Note                           object\n",
       "dtype: object"
      ]
     },
     "execution_count": 48,
     "metadata": {},
     "output_type": "execute_result"
    }
   ],
   "source": [
    "danamon_report_raw.dtypes"
   ]
  },
  {
   "cell_type": "code",
   "execution_count": 49,
   "id": "4f954eb6",
   "metadata": {},
   "outputs": [],
   "source": [
    "NIC = danamon_report_raw[['Date','On us / As Acquiring', 'Note (Bill ID)','Transaction Amount','MDR','Settlement Amount']]"
   ]
  },
  {
   "cell_type": "code",
   "execution_count": 50,
   "id": "07d0df16",
   "metadata": {},
   "outputs": [],
   "source": [
    "cek_acquiring = NIC[NIC['On us / As Acquiring'] == 'On Us'].index"
   ]
  },
  {
   "cell_type": "code",
   "execution_count": 51,
   "id": "82d69750",
   "metadata": {},
   "outputs": [],
   "source": [
    "pd.options.mode.copy_on_write = True"
   ]
  },
  {
   "cell_type": "code",
   "execution_count": 52,
   "id": "0f2223c4",
   "metadata": {},
   "outputs": [],
   "source": [
    "NIC['Rev Sharing'] = np.nan"
   ]
  },
  {
   "cell_type": "code",
   "execution_count": 53,
   "id": "be38405f",
   "metadata": {},
   "outputs": [],
   "source": [
    "NIC.loc[cek_acquiring, 'Rev Sharing'] = NIC['Transaction Amount'] * 0.0035"
   ]
  },
  {
   "cell_type": "code",
   "execution_count": 54,
   "id": "0b5ebbf1",
   "metadata": {},
   "outputs": [],
   "source": [
    "offus = NIC[NIC['Rev Sharing'].isna()].index"
   ]
  },
  {
   "cell_type": "code",
   "execution_count": 55,
   "id": "dd897cee",
   "metadata": {},
   "outputs": [],
   "source": [
    "NIC.loc[offus, 'Rev Sharing'] = NIC['Transaction Amount'] * 0.00425"
   ]
  },
  {
   "cell_type": "code",
   "execution_count": 56,
   "id": "bdaf02eb",
   "metadata": {},
   "outputs": [],
   "source": [
    "NIC['Rev Sharing'] = NIC['Rev Sharing'].round(2)"
   ]
  },
  {
   "cell_type": "code",
   "execution_count": 57,
   "id": "6c40a87e",
   "metadata": {},
   "outputs": [],
   "source": [
    "NIC.rename(columns={'Transaction Amount' : 'TPV', 'MDR' : 'MM Cost', 'On us / As Acquiring' : 'Channel Type'}, inplace=True)"
   ]
  },
  {
   "cell_type": "code",
   "execution_count": 58,
   "id": "37f9c268",
   "metadata": {},
   "outputs": [],
   "source": [
    "NIC = NIC.groupby(['Date','Channel Type']).agg({'Note (Bill ID)':'count','TPV' : 'sum', 'MM Cost' :'sum', 'Settlement Amount' : 'sum', 'Rev Sharing' : 'sum' })"
   ]
  },
  {
   "cell_type": "code",
   "execution_count": 59,
   "id": "2c83d5a2",
   "metadata": {},
   "outputs": [],
   "source": [
    "NIC.rename(columns = {'Note (Bill ID)' : \"#Trx\"}, inplace = True)"
   ]
  },
  {
   "cell_type": "code",
   "execution_count": 60,
   "id": "b88af019",
   "metadata": {},
   "outputs": [],
   "source": [
    "with pd.ExcelWriter(\"NIC Qris Danamon.xlsx\") as writer:\n",
    "    NIC.to_excel(writer, sheet_name=\"NIC Qris Danamon\", index=True) #notes : using this code only for the first date "
   ]
  },
  {
   "cell_type": "code",
   "execution_count": 61,
   "id": "7d4bc016",
   "metadata": {},
   "outputs": [],
   "source": [
    "reader = pd.read_excel('NIC Qris Danamon.xlsx')"
   ]
  },
  {
   "cell_type": "code",
   "execution_count": 62,
   "id": "9b10479c",
   "metadata": {},
   "outputs": [],
   "source": [
    "with pd.ExcelWriter('NIC Qris Danamon.xlsx',\n",
    "                    mode='a', if_sheet_exists = 'overlay') as writer:  \n",
    "    NIC.to_excel(writer, sheet_name='NIC Qris Danamon', startrow = len(reader) + 1, header=False, index=True)"
   ]
  },
  {
   "cell_type": "code",
   "execution_count": 63,
   "id": "6aa86823",
   "metadata": {},
   "outputs": [
    {
     "name": "stdout",
     "output_type": "stream",
     "text": [
      "Done\n"
     ]
    }
   ],
   "source": [
    "print(\"Done\")"
   ]
  },
  {
   "cell_type": "code",
   "execution_count": 64,
   "id": "b7fcfd15",
   "metadata": {},
   "outputs": [],
   "source": [
    "#groupByUsername = data_compare[['username','product_type','Transaction Channel Type','transaction_amount','deduction_cost_gross','admin_fee', 'admin_fee_invoice']]"
   ]
  },
  {
   "cell_type": "code",
   "execution_count": 65,
   "id": "3ce75919",
   "metadata": {},
   "outputs": [],
   "source": [
    "#groupByUsername = groupByUsername.groupby(['username','product_type','Transaction Channel Type']).agg({'username':'count','transaction_amount' : 'sum', 'deduction_cost_gross' :'sum', 'admin_fee' : 'sum', 'admin_fee_invoice' : 'sum' })"
   ]
  },
  {
   "cell_type": "code",
   "execution_count": 66,
   "id": "0e51282c",
   "metadata": {},
   "outputs": [],
   "source": [
    "#groupByUsername"
   ]
  },
  {
   "cell_type": "code",
   "execution_count": 67,
   "id": "63e30ff4",
   "metadata": {},
   "outputs": [],
   "source": [
    "#groupByUsername.rename(columns={\"username\": \"#Trx\"}, inplace=True)"
   ]
  },
  {
   "cell_type": "code",
   "execution_count": 68,
   "id": "fc7faf04",
   "metadata": {},
   "outputs": [],
   "source": [
    "#groupByUsername"
   ]
  },
  {
   "cell_type": "code",
   "execution_count": 69,
   "id": "5fa2acc9",
   "metadata": {},
   "outputs": [],
   "source": [
    "#reader = pd.read_excel('nobu append.xlsx')"
   ]
  },
  {
   "cell_type": "code",
   "execution_count": 70,
   "id": "bf4098e5",
   "metadata": {},
   "outputs": [],
   "source": [
    "#with pd.ExcelWriter(\"PY Danamon 14 mar 24 tess.xlsx\") as writer:\n",
    "    #data_compare.to_excel(writer, sheet_name=\"Line Per Line\", index=False)\n",
    "    #groupByUsername.to_excel(writer, sheet_name=\"GroupbyUsername\", index=True)\n",
    "    #unrecon.to_excel(writer, sheet_name=\"multiple qr id gds\", index=False)"
   ]
  },
  {
   "cell_type": "code",
   "execution_count": 71,
   "id": "400f6417",
   "metadata": {},
   "outputs": [],
   "source": [
    "#with pd.ExcelWriter('nobu append.xlsx',\n",
    "                    #mode='a', if_sheet_exists = 'overlay') as writer:  \n",
    "    #data_compare.to_excel(writer, sheet_name='Line Per Line', startrow = len(reader) + 1, header=True, index=False)"
   ]
  },
  {
   "cell_type": "code",
   "execution_count": 72,
   "id": "28d26cc2",
   "metadata": {},
   "outputs": [],
   "source": [
    "#print(\"done\")"
   ]
  },
  {
   "cell_type": "code",
   "execution_count": null,
   "id": "84b94279",
   "metadata": {},
   "outputs": [],
   "source": []
  }
 ],
 "metadata": {
  "kernelspec": {
   "display_name": "Python 3 (ipykernel)",
   "language": "python",
   "name": "python3"
  },
  "language_info": {
   "codemirror_mode": {
    "name": "ipython",
    "version": 3
   },
   "file_extension": ".py",
   "mimetype": "text/x-python",
   "name": "python",
   "nbconvert_exporter": "python",
   "pygments_lexer": "ipython3",
   "version": "3.11.5"
  }
 },
 "nbformat": 4,
 "nbformat_minor": 5
}
